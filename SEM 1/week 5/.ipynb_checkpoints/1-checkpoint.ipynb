{
 "cells": [
  {
   "cell_type": "markdown",
   "metadata": {},
   "source": [
    "# string class methods and attributes"
   ]
  },
  {
   "cell_type": "code",
   "execution_count": 12,
   "metadata": {},
   "outputs": [
    {
     "name": "stdout",
     "output_type": "stream",
     "text": [
      "abcd\n",
      "b : Abcd\n"
     ]
    },
    {
     "data": {
      "text/plain": [
       "'Abcd'"
      ]
     },
     "execution_count": 12,
     "metadata": {},
     "output_type": "execute_result"
    }
   ],
   "source": [
    "a=\"abcd\"\n",
    "print(a);\n",
    "b=a.capitalize()\n",
    "print(\"b :\",b);\n",
    "a.capitalize()\n",
    "#print(a.capitalize());\n",
    "#a is an object"
   ]
  },
  {
   "cell_type": "code",
   "execution_count": 13,
   "metadata": {},
   "outputs": [],
   "source": [
    "##to obtain help about a function\n",
    "##(three methids(help))"
   ]
  },
  {
   "cell_type": "code",
   "execution_count": 17,
   "metadata": {},
   "outputs": [
    {
     "name": "stdout",
     "output_type": "stream",
     "text": [
      "Help on built-in function print in module builtins:\n",
      "\n",
      "print(...)\n",
      "    print(value, ..., sep=' ', end='\\n', file=sys.stdout, flush=False)\n",
      "    \n",
      "    Prints the values to a stream, or to sys.stdout by default.\n",
      "    Optional keyword arguments:\n",
      "    file:  a file-like object (stream); defaults to the current sys.stdout.\n",
      "    sep:   string inserted between values, default a space.\n",
      "    end:   string appended after the last value, default a newline.\n",
      "    flush: whether to forcibly flush the stream.\n",
      "\n"
     ]
    }
   ],
   "source": [
    "help(print)"
   ]
  },
  {
   "cell_type": "code",
   "execution_count": 1,
   "metadata": {},
   "outputs": [],
   "source": [
    "print?"
   ]
  },
  {
   "cell_type": "code",
   "execution_count": 2,
   "metadata": {},
   "outputs": [],
   "source": [
    "##??->with documentation\n",
    "print??"
   ]
  },
  {
   "cell_type": "code",
   "execution_count": 22,
   "metadata": {},
   "outputs": [],
   "source": [
    "##\n",
    "a.center??"
   ]
  },
  {
   "cell_type": "code",
   "execution_count": 27,
   "metadata": {},
   "outputs": [
    {
     "name": "stdout",
     "output_type": "stream",
     "text": [
      "\n",
      "    qqqqqqqqq\n",
      "    wwwwwwwwwww\n",
      "    eeeeeeeeee\n",
      "\n"
     ]
    }
   ],
   "source": [
    "#for multiline string(2 or 3 times double quotes)\n",
    "abc = \"\"\"\n",
    "    qqqqqqqqq\n",
    "    wwwwwwwwwww\n",
    "    eeeeeeeeee\n",
    "\"\"\"\n",
    "print(abc)"
   ]
  },
  {
   "cell_type": "code",
   "execution_count": 28,
   "metadata": {},
   "outputs": [
    {
     "ename": "IndentationError",
     "evalue": "unexpected indent (<ipython-input-28-303cb0f82d9b>, line 2)",
     "output_type": "error",
     "traceback": [
      "\u001b[1;36m  File \u001b[1;32m\"<ipython-input-28-303cb0f82d9b>\"\u001b[1;36m, line \u001b[1;32m2\u001b[0m\n\u001b[1;33m    qqqqqqqqq\u001b[0m\n\u001b[1;37m    ^\u001b[0m\n\u001b[1;31mIndentationError\u001b[0m\u001b[1;31m:\u001b[0m unexpected indent\n"
     ]
    }
   ],
   "source": [
    "##\n",
    "abc = \"\"\n",
    "    qqqqqqqqq\n",
    "    wwwwwwwwwww\n",
    "    eeeeeeeeee\n",
    "\"\"\n",
    "print(abc)"
   ]
  },
  {
   "cell_type": "code",
   "execution_count": 35,
   "metadata": {},
   "outputs": [
    {
     "name": "stdout",
     "output_type": "stream",
     "text": [
      "\n",
      "    name= Taha\n",
      "    roll= 123\n",
      "\n"
     ]
    }
   ],
   "source": [
    "name=\"Taha\"\n",
    "r=\"123\"\n",
    "q=\"1111\"\n",
    "abc=\"\"\"\n",
    "    name= {}\n",
    "    roll= {}\n",
    "\"\"\"\n",
    "#abc.format(name,r) #check output\n",
    "print(abc.format(name,r))\n",
    "#abc.format(name,r,q) #will also run identically\n",
    "##format checks the {} and substitutes acc. to order"
   ]
  },
  {
   "cell_type": "code",
   "execution_count": 36,
   "metadata": {},
   "outputs": [
    {
     "name": "stdout",
     "output_type": "stream",
     "text": [
      "enter your name : taha\n",
      "enter your roll nos : 1\n",
      "\n",
      "    name= taha\n",
      "    roll= 1\n",
      "\n"
     ]
    }
   ],
   "source": [
    "name=input(\"enter your name : \")\n",
    "r=input(\"enter your roll nos : \")\n",
    "\n",
    "abc=\"\"\"\n",
    "    name= {}\n",
    "    roll= {}\n",
    "\"\"\"\n",
    "\n",
    "print(abc.format(name,r))"
   ]
  },
  {
   "cell_type": "code",
   "execution_count": 37,
   "metadata": {},
   "outputs": [
    {
     "data": {
      "text/plain": [
       "'1234'"
      ]
     },
     "execution_count": 37,
     "metadata": {},
     "output_type": "execute_result"
    }
   ],
   "source": [
    "a=\"12\"\n",
    "b=\"34\"\n",
    "a+b #concatination"
   ]
  }
 ],
 "metadata": {
  "kernelspec": {
   "display_name": "Python 3",
   "language": "python",
   "name": "python3"
  },
  "language_info": {
   "codemirror_mode": {
    "name": "ipython",
    "version": 3
   },
   "file_extension": ".py",
   "mimetype": "text/x-python",
   "name": "python",
   "nbconvert_exporter": "python",
   "pygments_lexer": "ipython3",
   "version": "3.7.3"
  }
 },
 "nbformat": 4,
 "nbformat_minor": 2
}
