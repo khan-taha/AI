{
 "cells": [
  {
   "cell_type": "markdown",
   "metadata": {},
   "source": [
    "Hackathon"
   ]
  },
  {
   "cell_type": "code",
   "execution_count": 9,
   "metadata": {},
   "outputs": [
    {
     "name": "stdout",
     "output_type": "stream",
     "text": [
      "2\n",
      "0 1\n",
      "8\n",
      "1 2\n",
      "14\n",
      "2 3\n",
      "20\n",
      "3 4\n",
      "26\n",
      "4 5\n",
      "32\n",
      "5 6\n",
      "38\n",
      "6 7\n",
      "44\n",
      "7 8\n",
      "50\n",
      "8 9\n",
      "56\n",
      "9 10\n",
      "62\n",
      "10 11\n",
      "68\n",
      "11 12\n",
      "74\n",
      "12 13\n",
      "80\n",
      "13 14\n",
      "86\n",
      "14 15\n",
      "92\n",
      "15 16\n",
      "98\n",
      "16 17\n",
      "104\n",
      "17 18\n",
      "110\n",
      "18 19\n",
      "116\n",
      "19 20\n",
      "122\n",
      "20 21\n",
      "128\n",
      "21 22\n",
      "134\n",
      "22 23\n",
      "140\n",
      "23 24\n",
      "146\n",
      "24 25\n",
      "152\n",
      "25 26\n",
      "158\n",
      "26 27\n",
      "164\n",
      "27 28\n",
      "170\n",
      "28 29\n",
      "176\n",
      "29 30\n",
      "182\n",
      "30 31\n",
      "188\n",
      "31 32\n",
      "194\n",
      "32 33\n",
      "200\n",
      "33 34\n",
      "206\n",
      "34 35\n",
      "212\n",
      "35 36\n"
     ]
    }
   ],
   "source": [
    "rabbits=4\n",
    "chicken=2\n",
    "head=35\n",
    "legs=94\n",
    "j=0\n",
    "\n",
    "for i in range(0,head+1):\n",
    "    j=j+1\n",
    "    print(4*i+2*j)\n",
    "    \n",
    "    if(4*i+2*j==94):\n",
    "        print(i,j)\n",
    "    else:\n",
    "        print(i,j)"
   ]
  },
  {
   "cell_type": "code",
   "execution_count": 20,
   "metadata": {},
   "outputs": [
    {
     "name": "stdout",
     "output_type": "stream",
     "text": [
      "Enter something : q1w2e3r4\n",
      "['q', '1', 'w', '2', 'e', '3', 'r', '4']\n",
      "q\n",
      "w\n",
      "e\n",
      "r\n"
     ]
    },
    {
     "data": {
      "text/plain": [
       "['q', 'w', 'e', 'r']"
      ]
     },
     "execution_count": 20,
     "metadata": {},
     "output_type": "execute_result"
    }
   ],
   "source": [
    "####2\n",
    "word=str(input(\"Enter something : \"))\n",
    "\n",
    "word1=list(word)\n",
    "\n",
    "print(word1)\n",
    "\n",
    "for i in range(0,len(word)):\n",
    "    if (i%2==0):\n",
    "        print(word1[i])\n",
    "    \n",
    "word2=word1[::2]\n",
    "word2\n",
    "        \n",
    "    "
   ]
  },
  {
   "cell_type": "code",
   "execution_count": 33,
   "metadata": {},
   "outputs": [
    {
     "name": "stdout",
     "output_type": "stream",
     "text": [
      "Enter something :qwerty\n",
      "qwerty\n",
      "['y', 't', 'r', 'e', 'w', 'q']\n",
      "ytrewq"
     ]
    }
   ],
   "source": [
    "####3\n",
    "\n",
    "word = input(\"Enter something :\")\n",
    "\n",
    "print(word)\n",
    "\n",
    "word1 = list(word)\n",
    "\n",
    "print(word1[::-1])\n",
    "for i in reversed(word1):\n",
    "    print(i,sep=\"\",end=\"\")"
   ]
  },
  {
   "cell_type": "code",
   "execution_count": 39,
   "metadata": {},
   "outputs": [
    {
     "name": "stdout",
     "output_type": "stream",
     "text": [
      "{'a': 3, 's': 3, 'd': 3, 'f': 1, 'g': 1}\n",
      "a,3\n",
      "s,3\n",
      "d,3\n",
      "f,1\n",
      "g,1\n"
     ]
    }
   ],
   "source": [
    "####4\n",
    "\n",
    "value=\"asdasdfgsad\"\n",
    "freq={}\n",
    "\n",
    "for i in value:\n",
    "    if i in freq:\n",
    "        freq[i]+=1\n",
    "    else:\n",
    "        freq[i]=1\n",
    "        \n",
    "print(freq)        \n",
    "\n",
    "for key,value in freq.items():\n",
    "    print(key,\",\",value,sep=\"\")"
   ]
  },
  {
   "cell_type": "code",
   "execution_count": null,
   "metadata": {},
   "outputs": [],
   "source": [
    "####5\n",
    "\n",
    "\n",
    "class Shape:\n",
    "    def __init__(self, area=0):\n",
    "        self.area=area\n",
    "        \n",
    "    def print_area(self):\n",
    "        print(self.area)\n",
    "        \n",
    "        \n",
    "class Square(Shape):\n",
    "    def __init__(self, length):\n",
    "        pass\n",
    "        \n",
    "        \n",
    "        "
   ]
  }
 ],
 "metadata": {
  "kernelspec": {
   "display_name": "Python 3",
   "language": "python",
   "name": "python3"
  },
  "language_info": {
   "codemirror_mode": {
    "name": "ipython",
    "version": 3
   },
   "file_extension": ".py",
   "mimetype": "text/x-python",
   "name": "python",
   "nbconvert_exporter": "python",
   "pygments_lexer": "ipython3",
   "version": "3.7.3"
  }
 },
 "nbformat": 4,
 "nbformat_minor": 2
}
