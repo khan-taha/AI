{
 "cells": [
  {
   "cell_type": "code",
   "execution_count": 1,
   "metadata": {},
   "outputs": [],
   "source": [
    "dob1 = \"1999-6-21\"\n",
    "dob2 = \"2019-7-27\"\n",
    "#dob1-dob2\n"
   ]
  },
  {
   "cell_type": "code",
   "execution_count": 4,
   "metadata": {},
   "outputs": [
    {
     "name": "stdout",
     "output_type": "stream",
     "text": [
      "2011-02-12 00:00:00\n"
     ]
    },
    {
     "data": {
      "text/plain": [
       "datetime.datetime"
      ]
     },
     "execution_count": 4,
     "metadata": {},
     "output_type": "execute_result"
    }
   ],
   "source": [
    "#import datetime\n",
    "import datetime as dt\n",
    "\n",
    "#datetime() ->has three arguments->year,month,day\n",
    "#hours,minutes ->and also other 0's for so on =>ms etc\n",
    "date_time1 = dt.datetime(2011,2,12)\n",
    "print(date_time1)\n",
    "type(date_time1)\n"
   ]
  },
  {
   "cell_type": "code",
   "execution_count": 11,
   "metadata": {},
   "outputs": [
    {
     "name": "stdout",
     "output_type": "stream",
     "text": [
      "1999-6-21\n",
      "1999-06-21 00:00:00\n"
     ]
    }
   ],
   "source": [
    "# % -> for converting str\n",
    "# Y-> 4  fig , y->2 fig\n",
    "# d (no categorisation)\n",
    "# parse time (into object)\n",
    "print(dob1)\n",
    "var1 = dt.datetime.strptime(dob1,\"%Y-%m-%d\")\n",
    "print(var1)"
   ]
  },
  {
   "cell_type": "code",
   "execution_count": 17,
   "metadata": {},
   "outputs": [
    {
     "name": "stdout",
     "output_type": "stream",
     "text": [
      "2019-07-27 00:00:00\n",
      "27 7 2019\n"
     ]
    }
   ],
   "source": [
    "# convert string into datetime object\n",
    "dtime = dt.datetime.strptime(dob2,\"%Y-%m-%d\")\n",
    "print(dtime)\n",
    "print(dtime.day,dtime.month,dtime.year)\n"
   ]
  },
  {
   "cell_type": "code",
   "execution_count": 23,
   "metadata": {},
   "outputs": [
    {
     "name": "stdout",
     "output_type": "stream",
     "text": [
      "Saturday 27 July, 2019\n"
     ]
    }
   ],
   "source": [
    "# to convert datettime object into string\n",
    "# formatting onto string\n",
    "\n",
    "con_to_str=dtime.strftime(\"%A %d %B, %Y\") #to extract the day (%A)\n",
    "print(con_to_str) \n"
   ]
  },
  {
   "cell_type": "code",
   "execution_count": 33,
   "metadata": {},
   "outputs": [
    {
     "name": "stdout",
     "output_type": "stream",
     "text": [
      "30 days, 0:00:00 1999-06-21 00:00:00\n"
     ]
    },
    {
     "data": {
      "text/plain": [
       "datetime.datetime(1999, 7, 21, 0, 0)"
      ]
     },
     "execution_count": 33,
     "metadata": {},
     "output_type": "execute_result"
    }
   ],
   "source": [
    "start_date = \"2019-7-27\"\n",
    "\n",
    "value1 = dt.datetime.strptime(dob1,\"%Y-%m-%d\")\n",
    "\n",
    "date1 = dt.timedelta(weeks = 4, days = 2)\n",
    "\n",
    "print(date1,value1)\n",
    "date1+value1"
   ]
  },
  {
   "cell_type": "markdown",
   "metadata": {},
   "source": [
    "1000 mcqs on python ->stanford"
   ]
  },
  {
   "cell_type": "markdown",
   "metadata": {},
   "source": [
    "convert->date into datetime(of diff formats)\n",
    "\n",
    "q = \"07 june ,2019\"\n",
    "\n"
   ]
  },
  {
   "cell_type": "markdown",
   "metadata": {},
   "source": [
    "# Math module"
   ]
  },
  {
   "cell_type": "code",
   "execution_count": 50,
   "metadata": {},
   "outputs": [
    {
     "ename": "SyntaxError",
     "evalue": "invalid syntax (<ipython-input-50-9ef6d093fd40>, line 17)",
     "output_type": "error",
     "traceback": [
      "\u001b[1;36m  File \u001b[1;32m\"<ipython-input-50-9ef6d093fd40>\"\u001b[1;36m, line \u001b[1;32m17\u001b[0m\n\u001b[1;33m    print(math.fabs7))\u001b[0m\n\u001b[1;37m                     ^\u001b[0m\n\u001b[1;31mSyntaxError\u001b[0m\u001b[1;31m:\u001b[0m invalid syntax\n"
     ]
    }
   ],
   "source": [
    "#github markdown syntax\n",
    "\n",
    "import math \n",
    "\n",
    "ceil = math.ceil(2.7)\n",
    "print(ceil)\n",
    "\n",
    "floor = math.floor(2.7)\n",
    "print(floor)\n",
    "\n",
    "print(int(2.7))\n",
    "#roundoff in floor,truncating when typecasting into string\n",
    "\n",
    "print(math.factorial(5))\n",
    "print(math.fmod(9,2))\n",
    "print(math.fabs(-2.7))#checks distance(or difference) from 0(therefore always in positive),(measurement of distance)\n",
    "print(math.fabs7))"
   ]
  },
  {
   "cell_type": "code",
   "execution_count": null,
   "metadata": {},
   "outputs": [],
   "source": []
  }
 ],
 "metadata": {
  "kernelspec": {
   "display_name": "Python 3",
   "language": "python",
   "name": "python3"
  },
  "language_info": {
   "codemirror_mode": {
    "name": "ipython",
    "version": 3
   },
   "file_extension": ".py",
   "mimetype": "text/x-python",
   "name": "python",
   "nbconvert_exporter": "python",
   "pygments_lexer": "ipython3",
   "version": "3.7.3"
  }
 },
 "nbformat": 4,
 "nbformat_minor": 2
}
