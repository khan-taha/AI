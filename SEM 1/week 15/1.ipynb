{
 "cells": [
  {
   "cell_type": "code",
   "execution_count": 17,
   "metadata": {},
   "outputs": [
    {
     "name": "stdout",
     "output_type": "stream",
     "text": [
      "Enter 1st number : 5\n",
      "Enter 2nd number : 8\n",
      "12\n"
     ]
    }
   ],
   "source": [
    "num1 = int(input(\"Enter 1st number : \"))\n",
    "num2 = int(input(\"Enter 2nd number : \"))\n",
    "flag=0\n",
    "\n",
    "def solve(num1,num2):\n",
    "\n",
    "    value=num1\n",
    "    for i in range(num1+1,num2+1):\n",
    "    \n",
    "        value = value^i\n",
    "        \n",
    "    \n",
    "    print(value)\n",
    "\n",
    "if(num2<num1):\n",
    "\n",
    "    print(\"cannot be solved\")\n",
    "    flag=1\n",
    "\n",
    "\n",
    "if flag==0:\n",
    "\n",
    "    solve(num1,num2)\n",
    "\n",
    "\n",
    "\n",
    "\n",
    "    "
   ]
  }
 ],
 "metadata": {
  "kernelspec": {
   "display_name": "Python 3",
   "language": "python",
   "name": "python3"
  },
  "language_info": {
   "codemirror_mode": {
    "name": "ipython",
    "version": 3
   },
   "file_extension": ".py",
   "mimetype": "text/x-python",
   "name": "python",
   "nbconvert_exporter": "python",
   "pygments_lexer": "ipython3",
   "version": "3.7.3"
  }
 },
 "nbformat": 4,
 "nbformat_minor": 2
}
