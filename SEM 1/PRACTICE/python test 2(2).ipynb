{
 "cells": [
  {
   "cell_type": "code",
   "execution_count": 48,
   "metadata": {},
   "outputs": [
    {
     "name": "stdout",
     "output_type": "stream",
     "text": [
      "A private func3\n",
      "\n",
      "A public func4\n",
      "\n",
      "taha 20 class variable\n",
      "\n",
      "TAHA 21 CLASS VAR\n",
      "\n",
      "A public func1\n",
      "TAHA\n",
      "21\n",
      "CLASS VAR\n",
      "\n",
      "A private func2\n",
      "\n",
      "\n",
      " CLASS A ENDS \n",
      "\n",
      "A private func3\n",
      "\n",
      "A public func4\n",
      "\n",
      "taha 20 CLASS VAR\n",
      "\n",
      "TAHA 21 CLASS VAR\n",
      "\n",
      "A public func1\n",
      "TAHA\n",
      "21\n",
      "CLASS VAR\n",
      "\n",
      "A private func2\n",
      "\n",
      "2222\n",
      "obj1 id =  1311778327240\n",
      "obj2 id =  1311778433456\n",
      "A private func3\n",
      "\n",
      "A public func4\n",
      "\n",
      "C extends A public C\n"
     ]
    }
   ],
   "source": [
    "class A():\n",
    "    \n",
    "    z1 = 'class variable'   #class var\n",
    "    \n",
    "    def __init__(self,name,age): #constructor\n",
    "        self.__name = name       #private att\n",
    "        self.age = age           #public att\n",
    "        \n",
    "        self.__func3()      # OR self._A__func3()\n",
    "        self.func4()\n",
    "        print()\n",
    "        \n",
    "    def func1(self):             #public method\n",
    "        print('A public func1')  #accessing attributes/vars inside class\n",
    "        print(self.__name)       # OR self._A__name\n",
    "        print(self.age)\n",
    "        print(A.z1)\n",
    "        print()\n",
    "        \n",
    "    def __func2(self):               #private method\n",
    "        print('A private func2')\n",
    "        print()\n",
    "        \n",
    "    def __func3(self):               #private method\n",
    "        print('A private func3')\n",
    "        print()\n",
    "     \n",
    "    def func4(self):                 #public method\n",
    "        print(\"A public func4\")\n",
    "     \n",
    "class B(A):\n",
    "    pass\n",
    "  \n",
    "class C(A):\n",
    "    \n",
    "    def __init__(self,roll_num,name,age):\n",
    "        super(C,self).__init__(name,age) # OR super(). OR C.\n",
    "        self.number=roll_num\n",
    "    \n",
    "    def func5(self):\n",
    "        print(\"C extends A\",'public C')\n",
    "        \n",
    "    \n",
    "obj1 = A('taha',20)   #initiating object\n",
    "print(obj1._A__name,obj1.age,A.z1)  #accessing attributes/var outside class\n",
    "obj1._A__name = 'TAHA'\n",
    "obj1.age = '21'\n",
    "A.z1 = 'CLASS VAR'\n",
    "print()\n",
    "print(obj1._A__name,obj1.age,A.z1)\n",
    "print()\n",
    "obj1.func1() #calling public method\n",
    "obj1._A__func2() #calling private method\n",
    "\n",
    "print('\\n',\"CLASS A ENDS\",'\\n')\n",
    "\n",
    "obj2 = B('taha',20)   #initiating object\n",
    "print(obj2._A__name,obj2.age,A.z1)  #accessing attributes/var outside class\n",
    "obj2._A__name = 'TAHA'\n",
    "obj2.age = '21'\n",
    "A.z1 = 'CLASS VAR'\n",
    "print()\n",
    "print(obj2._A__name,obj2.age,A.z1)\n",
    "print()\n",
    "obj2.func1() #calling public method\n",
    "obj2._A__func2() #calling private method\n",
    "\n",
    "if(obj1==obj2):\n",
    "    print(1111)\n",
    "else:\n",
    "    print(2222)\n",
    "    print(\"obj1 id = \",id(obj1))\n",
    "    print(\"obj2 id = \",id(obj2))\n",
    "\n",
    "#del obj1 #deleting an object\n",
    "\n",
    "obj3 = C('Taha',12,1234)\n",
    "\n",
    "obj3.func5()"
   ]
  },
  {
   "cell_type": "code",
   "execution_count": 218,
   "metadata": {},
   "outputs": [
    {
     "name": "stdout",
     "output_type": "stream",
     "text": [
      "Child a\n",
      "Hello World Child..\n"
     ]
    }
   ],
   "source": [
    "class Q():\n",
    "    def __init__(self):\n",
    "        print(\"Parent\")\n",
    "    \n",
    "    def speaking(self): # Over Riding  (same function,different classes)\n",
    "        print(\"hello I am parent...\")\n",
    "\n",
    "class W(Q):\n",
    "    def __init__(self): \n",
    "        self.words=None\n",
    "        self.__a='a'\n",
    "        print(\"Child\", self._W__a)\n",
    "    \n",
    "    def speaking(self): #Over Riding\n",
    "        print(\"Hello World Child..\")\n",
    "        \n",
    "#no direct option for method Overloading but can still use through optional positional argumants\n",
    "        \n",
    "q12 = W()        \n",
    "q12.speaking()\n"
   ]
  },
  {
   "cell_type": "code",
   "execution_count": 61,
   "metadata": {},
   "outputs": [],
   "source": [
    "with open(\"1.txt\", \"w\") as f:  #write mode\n",
    "        f.write(\"Hello, world!\\n\")"
   ]
  },
  {
   "cell_type": "code",
   "execution_count": 62,
   "metadata": {},
   "outputs": [
    {
     "name": "stdout",
     "output_type": "stream",
     "text": [
      "Hello, world!\n",
      "\n"
     ]
    }
   ],
   "source": [
    "with open(\"1.txt\") as f: # OR with open(\"1.txt\", \"r\") as f:   #read mode\n",
    "    ans1 = f.read()\n",
    "    print(ans1)\n",
    "    "
   ]
  },
  {
   "cell_type": "code",
   "execution_count": 64,
   "metadata": {},
   "outputs": [],
   "source": [
    "with open(\"1.txt\", \"a\") as f:  #append mode\n",
    "    f.write(\"\\nHow are you\")"
   ]
  },
  {
   "cell_type": "code",
   "execution_count": 66,
   "metadata": {},
   "outputs": [
    {
     "name": "stdout",
     "output_type": "stream",
     "text": [
      "Hello, world!\n",
      "\n",
      "How are you\n",
      "How are you\n"
     ]
    }
   ],
   "source": [
    "with open(\"1.txt\") as f: # OR with open(\"1.txt\", \"r\") as f:   #read mode\n",
    "    ans1 = f.read()\n",
    "    print(ans1)"
   ]
  },
  {
   "cell_type": "code",
   "execution_count": 74,
   "metadata": {},
   "outputs": [
    {
     "data": {
      "text/plain": [
       "['1', 'taha', '20', '2', 'ali', '21', '3', 'sami', '22']"
      ]
     },
     "execution_count": 74,
     "metadata": {},
     "output_type": "execute_result"
    }
   ],
   "source": [
    "import csv\n",
    "\n",
    "with open(\"2.csv\") as f:\n",
    "    contents_of_file = csv.reader(f)\n",
    "    l1 = []\n",
    "    \n",
    "    for each_line in contents_of_file:\n",
    "        l1 += each_line   #l1.append(each_line)\n",
    "   \n",
    "\n",
    "l1"
   ]
  },
  {
   "cell_type": "code",
   "execution_count": 82,
   "metadata": {},
   "outputs": [
    {
     "name": "stdout",
     "output_type": "stream",
     "text": [
      "256\n",
      "256\n"
     ]
    }
   ],
   "source": [
    "print(2**2**3) # 1-> 2**3 = 8\n",
    "print(2**8)    # 2-> 2**8 = 256\n",
    "\n",
    "    "
   ]
  },
  {
   "cell_type": "code",
   "execution_count": 89,
   "metadata": {},
   "outputs": [
    {
     "name": "stdout",
     "output_type": "stream",
     "text": [
      "1111928.953488372\n"
     ]
    }
   ],
   "source": [
    "print(1111100 + 45 - (88 / 43) + 783 \\\n",
    "+3)"
   ]
  },
  {
   "cell_type": "code",
   "execution_count": 94,
   "metadata": {},
   "outputs": [
    {
     "name": "stdout",
     "output_type": "stream",
     "text": [
      "123\n",
      "-123\n",
      "-124\n",
      "True\n"
     ]
    }
   ],
   "source": [
    "x=123\n",
    "print(+x)\n",
    "print(-x)\n",
    "print(~x)\n",
    "if(1==1):\n",
    "    print(True)"
   ]
  },
  {
   "cell_type": "code",
   "execution_count": 108,
   "metadata": {},
   "outputs": [
    {
     "name": "stdout",
     "output_type": "stream",
     "text": [
      "1.0\n",
      "1 <class 'int'>\n",
      "4.75\n",
      "4.0 <class 'float'>\n",
      "-4.75\n",
      "-5.0 <class 'float'>\n",
      "4.0 <class 'float'>\n"
     ]
    }
   ],
   "source": [
    "print(2/2)\n",
    "print(2//2,type(2//2))\n",
    "print(9.5/2)\n",
    "a=(9.5//2)\n",
    "print(a,type(a))\n",
    "print(-9.5/2)\n",
    "a=(-9.5//2)\n",
    "print(a,type(a))\n",
    "a=(9//2.1)\n",
    "print(a,type(a))"
   ]
  },
  {
   "cell_type": "code",
   "execution_count": 110,
   "metadata": {},
   "outputs": [
    {
     "data": {
      "text/plain": [
       "12"
      ]
     },
     "execution_count": 110,
     "metadata": {},
     "output_type": "execute_result"
    }
   ],
   "source": [
    "5^6^7^8"
   ]
  },
  {
   "cell_type": "code",
   "execution_count": 117,
   "metadata": {},
   "outputs": [
    {
     "ename": "SyntaxError",
     "evalue": "invalid syntax (<ipython-input-117-3f0054126378>, line 4)",
     "output_type": "error",
     "traceback": [
      "\u001b[1;36m  File \u001b[1;32m\"<ipython-input-117-3f0054126378>\"\u001b[1;36m, line \u001b[1;32m4\u001b[0m\n\u001b[1;33m    x1 = y1 += z1\u001b[0m\n\u001b[1;37m             ^\u001b[0m\n\u001b[1;31mSyntaxError\u001b[0m\u001b[1;31m:\u001b[0m invalid syntax\n"
     ]
    }
   ],
   "source": [
    "x1=1\n",
    "y1=1\n",
    "z1=1\n",
    "x1 = y1 += z1\n",
    "\n",
    "print(x1,y1,z1)"
   ]
  },
  {
   "cell_type": "code",
   "execution_count": 119,
   "metadata": {},
   "outputs": [
    {
     "name": "stdout",
     "output_type": "stream",
     "text": [
      "140730336842848\n",
      "140730336842848\n",
      "140730336842880\n",
      "140730336842912\n"
     ]
    }
   ],
   "source": [
    "a = 10\n",
    "b = 10\n",
    "c = 11\n",
    "d = 12\n",
    "\n",
    "print(id(a))\n",
    "print(id(b))\n",
    "print(id(c))\n",
    "print(id(d))"
   ]
  },
  {
   "cell_type": "code",
   "execution_count": 180,
   "metadata": {},
   "outputs": [
    {
     "name": "stdout",
     "output_type": "stream",
     "text": [
      "1311777501320\n",
      "1311777574472\n",
      "1311686148984\n",
      "1311686148984\n"
     ]
    }
   ],
   "source": [
    "# tuples\n",
    "t = ('A', 'B')\n",
    "print(id(t))\n",
    "\n",
    "t1 = ('A', 'B')\n",
    "print(id(t1))\n",
    "\n",
    "# strings\n",
    "s1 = 'ABC'\n",
    "s2 = 'ABC'\n",
    "print(id(s1))\n",
    "print(id(s2))"
   ]
  },
  {
   "cell_type": "code",
   "execution_count": null,
   "metadata": {},
   "outputs": [],
   "source": []
  },
  {
   "cell_type": "code",
   "execution_count": 123,
   "metadata": {},
   "outputs": [
    {
     "name": "stdout",
     "output_type": "stream",
     "text": [
      "1311776658704\n",
      "1311780726392\n"
     ]
    }
   ],
   "source": [
    "# dict\n",
    "d1 = {\"A\": 1, \"B\": 2}\n",
    "d2 = {\"A\": 1, \"B\": 2}\n",
    "print(id(d1))\n",
    "print(id(d2))"
   ]
  },
  {
   "cell_type": "code",
   "execution_count": 197,
   "metadata": {},
   "outputs": [
    {
     "name": "stdout",
     "output_type": "stream",
     "text": [
      "aaaaaaaaaa\n",
      "False\n",
      "False\n",
      "False\n",
      "True\n",
      "True\n",
      "True\n",
      "True\n",
      "False\n",
      "False\n",
      "False\n"
     ]
    }
   ],
   "source": [
    "print('a'*10)\n",
    "a=1.2\n",
    "b=1.2\n",
    "print(a is b)\n",
    "a=-6\n",
    "b=-6\n",
    "print(a is b)\n",
    "a=257\n",
    "b=257\n",
    "\n",
    "print(a is b)\n",
    "a=1\n",
    "b=1\n",
    "print(a is b)\n",
    "a='1'\n",
    "b='1'\n",
    "print(a is b)\n",
    "a=256\n",
    "b=256\n",
    "print(a is b)\n",
    "a=-5\n",
    "b=-5\n",
    "print(a is b)\n",
    "a = ('A', 'B')\n",
    "b = ('A', 'B')\n",
    "print(a is b)\n",
    "a = [1,2,3]\n",
    "b = [1,2,3]\n",
    "print(a is b)\n",
    "a = {\"A\": 1, \"B\": 2}\n",
    "b = {\"A\": 1, \"B\": 2}\n",
    "print(a is b)\n"
   ]
  },
  {
   "cell_type": "code",
   "execution_count": 211,
   "metadata": {},
   "outputs": [
    {
     "name": "stdout",
     "output_type": "stream",
     "text": [
      "[1, 2, 3, 4, 5, 6]\n",
      "[1, 3]\n"
     ]
    },
    {
     "data": {
      "text/plain": [
       "[1, 2, 3, 4, 5, 6, 7]"
      ]
     },
     "execution_count": 211,
     "metadata": {},
     "output_type": "execute_result"
    }
   ],
   "source": [
    "l1 = [1,2,3,4]\n",
    "l1 = l1 + [5,6]\n",
    "print(l1)\n",
    "print(l1[0:3:2])\n",
    "l1.insert(19,7)\n",
    "l1"
   ]
  },
  {
   "cell_type": "code",
   "execution_count": 213,
   "metadata": {},
   "outputs": [
    {
     "data": {
      "text/plain": [
       "'Sadas Asdas'"
      ]
     },
     "execution_count": 213,
     "metadata": {},
     "output_type": "execute_result"
    }
   ],
   "source": [
    "a='sadas asdas'\n",
    "a.title()"
   ]
  },
  {
   "cell_type": "code",
   "execution_count": 216,
   "metadata": {},
   "outputs": [
    {
     "data": {
      "text/plain": [
       "2"
      ]
     },
     "execution_count": 216,
     "metadata": {},
     "output_type": "execute_result"
    }
   ],
   "source": [
    "d1 = {\n",
    "    1 : 2\n",
    "}\n",
    "d1[1]"
   ]
  },
  {
   "cell_type": "code",
   "execution_count": 1,
   "metadata": {},
   "outputs": [
    {
     "data": {
      "text/plain": [
       "'Taha'"
      ]
     },
     "execution_count": 1,
     "metadata": {},
     "output_type": "execute_result"
    }
   ],
   "source": [
    "l2 = [\n",
    "    { 'name':'Taha'},\n",
    "    { 'name':'ali'},\n",
    "    { 'name':'azan'}\n",
    "]\n",
    "l2[0]['name']"
   ]
  },
  {
   "cell_type": "code",
   "execution_count": 5,
   "metadata": {},
   "outputs": [
    {
     "name": "stdout",
     "output_type": "stream",
     "text": [
      "Taha\n",
      "None\n"
     ]
    }
   ],
   "source": [
    "def f1():\n",
    "    print(\"Taha\")\n",
    "    \n",
    "x=f1\n",
    "print(x())\n",
    "    "
   ]
  },
  {
   "cell_type": "code",
   "execution_count": 6,
   "metadata": {},
   "outputs": [
    {
     "name": "stdout",
     "output_type": "stream",
     "text": [
      "Taha\n"
     ]
    },
    {
     "ename": "TypeError",
     "evalue": "'NoneType' object is not callable",
     "output_type": "error",
     "traceback": [
      "\u001b[1;31m---------------------------------------------------------------------------\u001b[0m",
      "\u001b[1;31mTypeError\u001b[0m                                 Traceback (most recent call last)",
      "\u001b[1;32m<ipython-input-6-07587e4166ba>\u001b[0m in \u001b[0;36m<module>\u001b[1;34m\u001b[0m\n\u001b[0;32m      3\u001b[0m \u001b[1;33m\u001b[0m\u001b[0m\n\u001b[0;32m      4\u001b[0m \u001b[0mx\u001b[0m\u001b[1;33m=\u001b[0m\u001b[0mf1\u001b[0m\u001b[1;33m(\u001b[0m\u001b[1;33m)\u001b[0m\u001b[1;33m\u001b[0m\u001b[1;33m\u001b[0m\u001b[0m\n\u001b[1;32m----> 5\u001b[1;33m \u001b[0mprint\u001b[0m\u001b[1;33m(\u001b[0m\u001b[0mx\u001b[0m\u001b[1;33m(\u001b[0m\u001b[1;33m)\u001b[0m\u001b[1;33m)\u001b[0m\u001b[1;33m\u001b[0m\u001b[1;33m\u001b[0m\u001b[0m\n\u001b[0m",
      "\u001b[1;31mTypeError\u001b[0m: 'NoneType' object is not callable"
     ]
    }
   ],
   "source": [
    "def f1():\n",
    "    print(\"Taha\")\n",
    "    \n",
    "x=f1()\n",
    "print(x())\n"
   ]
  },
  {
   "cell_type": "code",
   "execution_count": 9,
   "metadata": {},
   "outputs": [
    {
     "name": "stdout",
     "output_type": "stream",
     "text": [
      "<function f1 at 0x000001CBEB17F488>\n"
     ]
    }
   ],
   "source": [
    "def f1():\n",
    "    print(\"Taha\")\n",
    "    \n",
    "x=f1\n",
    "print(x)\n"
   ]
  },
  {
   "cell_type": "code",
   "execution_count": 12,
   "metadata": {},
   "outputs": [
    {
     "ename": "NameError",
     "evalue": "name 'z' is not defined",
     "output_type": "error",
     "traceback": [
      "\u001b[1;31m---------------------------------------------------------------------------\u001b[0m",
      "\u001b[1;31mNameError\u001b[0m                                 Traceback (most recent call last)",
      "\u001b[1;32m<ipython-input-12-ed2a876ed608>\u001b[0m in \u001b[0;36m<module>\u001b[1;34m\u001b[0m\n\u001b[1;32m----> 1\u001b[1;33m \u001b[1;32mwhile\u001b[0m \u001b[0mz\u001b[0m\u001b[1;33m<\u001b[0m\u001b[1;36m10\u001b[0m\u001b[1;33m:\u001b[0m\u001b[1;33m\u001b[0m\u001b[1;33m\u001b[0m\u001b[0m\n\u001b[0m\u001b[0;32m      2\u001b[0m     \u001b[0mz\u001b[0m\u001b[1;33m=\u001b[0m\u001b[0mz\u001b[0m\u001b[1;33m+\u001b[0m\u001b[1;36m1\u001b[0m\u001b[1;33m\u001b[0m\u001b[1;33m\u001b[0m\u001b[0m\n\u001b[0;32m      3\u001b[0m \u001b[0mprint\u001b[0m\u001b[1;33m(\u001b[0m\u001b[0mz\u001b[0m\u001b[1;33m)\u001b[0m\u001b[1;33m\u001b[0m\u001b[1;33m\u001b[0m\u001b[0m\n",
      "\u001b[1;31mNameError\u001b[0m: name 'z' is not defined"
     ]
    }
   ],
   "source": [
    "while z<10:\n",
    "    z=z+1\n",
    "print(z)    "
   ]
  },
  {
   "cell_type": "code",
   "execution_count": null,
   "metadata": {},
   "outputs": [],
   "source": []
  }
 ],
 "metadata": {
  "kernelspec": {
   "display_name": "Python 3",
   "language": "python",
   "name": "python3"
  },
  "language_info": {
   "codemirror_mode": {
    "name": "ipython",
    "version": 3
   },
   "file_extension": ".py",
   "mimetype": "text/x-python",
   "name": "python",
   "nbconvert_exporter": "python",
   "pygments_lexer": "ipython3",
   "version": "3.7.3"
  }
 },
 "nbformat": 4,
 "nbformat_minor": 2
}
