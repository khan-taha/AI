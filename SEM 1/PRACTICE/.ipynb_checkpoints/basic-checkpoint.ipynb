{
 "cells": [
  {
   "cell_type": "code",
   "execution_count": 12,
   "metadata": {},
   "outputs": [
    {
     "data": {
      "text/plain": [
       "'taha'"
      ]
     },
     "execution_count": 12,
     "metadata": {},
     "output_type": "execute_result"
    }
   ],
   "source": [
    "a=\"taha\"\n",
    "a"
   ]
  },
  {
   "cell_type": "code",
   "execution_count": 14,
   "metadata": {},
   "outputs": [
    {
     "name": "stdout",
     "output_type": "stream",
     "text": [
      "\"a\"\n"
     ]
    }
   ],
   "source": [
    "print('\"a\"')"
   ]
  },
  {
   "cell_type": "code",
   "execution_count": 21,
   "metadata": {},
   "outputs": [
    {
     "name": "stdout",
     "output_type": "stream",
     "text": [
      "a***b09"
     ]
    }
   ],
   "source": [
    "print(\"a\",\"b\",sep=\"***\",end=\"09\",flush=\"false\")\n",
    "#aaaaaa"
   ]
  },
  {
   "cell_type": "code",
   "execution_count": 26,
   "metadata": {},
   "outputs": [
    {
     "name": "stdout",
     "output_type": "stream",
     "text": [
      "Help on built-in function print in module builtins:\n",
      "\n",
      "print(...)\n",
      "    print(value, ..., sep=' ', end='\\n', file=sys.stdout, flush=False)\n",
      "    \n",
      "    Prints the values to a stream, or to sys.stdout by default.\n",
      "    Optional keyword arguments:\n",
      "    file:  a file-like object (stream); defaults to the current sys.stdout.\n",
      "    sep:   string inserted between values, default a space.\n",
      "    end:   string appended after the last value, default a newline.\n",
      "    flush: whether to forcibly flush the stream.\n",
      "\n"
     ]
    }
   ],
   "source": [
    "help(print)"
   ]
  },
  {
   "cell_type": "code",
   "execution_count": 28,
   "metadata": {},
   "outputs": [],
   "source": [
    "print?\n"
   ]
  },
  {
   "cell_type": "code",
   "execution_count": 29,
   "metadata": {},
   "outputs": [],
   "source": [
    "print??"
   ]
  },
  {
   "cell_type": "code",
   "execution_count": 37,
   "metadata": {},
   "outputs": [
    {
     "name": "stdout",
     "output_type": "stream",
     "text": [
      "acd\n"
     ]
    }
   ],
   "source": [
    "a=\"acd\"\n",
    "print(a)"
   ]
  },
  {
   "cell_type": "code",
   "execution_count": 50,
   "metadata": {},
   "outputs": [
    {
     "name": "stdout",
     "output_type": "stream",
     "text": [
      "\"qwe\"\n"
     ]
    }
   ],
   "source": [
    "b=\"qwe\"\n",
    "print('\"{}\"'.format(b))"
   ]
  },
  {
   "cell_type": "code",
   "execution_count": 56,
   "metadata": {},
   "outputs": [
    {
     "name": "stdout",
     "output_type": "stream",
     "text": [
      "\n",
      "    qqq\n",
      "    www\n",
      "    eee\n",
      "\n",
      "\n"
     ]
    }
   ],
   "source": [
    "c=\"\"\"\n",
    "    qqq\n",
    "    www\n",
    "    eee\n",
    "\n",
    "\"\"\"\n",
    "print(c)"
   ]
  },
  {
   "cell_type": "code",
   "execution_count": 58,
   "metadata": {},
   "outputs": [
    {
     "name": "stdout",
     "output_type": "stream",
     "text": [
      "\n",
      "qqq\n",
      "www\n",
      "eee\n",
      "\n",
      "\n"
     ]
    }
   ],
   "source": [
    "d=\"\"\"\n",
    "qqq\n",
    "www\n",
    "eee\n",
    "\n",
    "\"\"\"\n",
    "print(d)"
   ]
  },
  {
   "cell_type": "code",
   "execution_count": 61,
   "metadata": {},
   "outputs": [
    {
     "name": "stdout",
     "output_type": "stream",
     "text": [
      "sadasda   sald;asl;dqq1\n"
     ]
    }
   ],
   "source": [
    "e=\"sadasda   \\\n",
    "sald;asl;d\\\n",
    "qq\\\n",
    "1\"\n",
    "print(e)"
   ]
  },
  {
   "cell_type": "code",
   "execution_count": 79,
   "metadata": {},
   "outputs": [
    {
     "name": "stdout",
     "output_type": "stream",
     "text": [
      "\"qwe\"\n"
     ]
    },
    {
     "data": {
      "text/plain": [
       "'abcd'"
      ]
     },
     "execution_count": 79,
     "metadata": {},
     "output_type": "execute_result"
    }
   ],
   "source": [
    "f='\"qwe\"'\n",
    "\"\"\"\n",
    "This is a\n",
    "multilline comment\n",
    "\"\"\"\n",
    "'''\n",
    "This is also a\n",
    "multilline comment\n",
    "'''\n",
    "print(f)\n",
    "\"abcd\""
   ]
  },
  {
   "cell_type": "code",
   "execution_count": 81,
   "metadata": {},
   "outputs": [
    {
     "data": {
      "text/plain": [
       "'\\n    name= Taha\\n    roll= 123\\n'"
      ]
     },
     "execution_count": 81,
     "metadata": {},
     "output_type": "execute_result"
    }
   ],
   "source": [
    "name=\"Taha\"\n",
    "r=\"123\"\n",
    "q=\"1111\"\n",
    "abc=\"\"\"\n",
    "    name= {}\n",
    "    roll= {}\n",
    "\"\"\"\n",
    "abc.format(name,r) #check output\n",
    "#print(abc.format(name,r))\n",
    "#abc.format(name,r,q) #will also run identically\n",
    "##format checks the {} and substitutes acc. to order"
   ]
  },
  {
   "cell_type": "code",
   "execution_count": 88,
   "metadata": {},
   "outputs": [
    {
     "name": "stdout",
     "output_type": "stream",
     "text": [
      "\n",
      "    name= Taha\n",
      "    roll= 123\n",
      "\n"
     ]
    }
   ],
   "source": [
    "name=\"Taha\"\n",
    "r=\"123\"\n",
    "q=\"1111\"\n",
    "abc=\"\"\"\n",
    "    name= {}\n",
    "    roll= {}\n",
    "\"\"\"\n",
    "#abc.format(name,r) #check output\n",
    "print(abc.format(name,r,q))\n",
    "#abc.format(name,r,q) #will also run identically\n",
    "##format checks the {} and substitutes acc. to order"
   ]
  },
  {
   "cell_type": "code",
   "execution_count": 91,
   "metadata": {},
   "outputs": [
    {
     "name": "stdout",
     "output_type": "stream",
     "text": [
      "\n",
      "    name= Taha\n",
      "    roll= 123\n",
      "\n"
     ]
    }
   ],
   "source": [
    "name=\"Taha\"\n",
    "r=\"123\"\n",
    "q=\"1111\"\n",
    "abc=\"\"\"\n",
    "    name= {}\n",
    "    roll= {}\n",
    "\"\"\"\n",
    "#abc.format(name,r) #check output\n",
    "#print(abc.format(name,r))\n",
    "abc=abc.format(name,r,q) #will also run identically\n",
    "##format checks the {} and substitutes acc. to order\n",
    "print(abc)"
   ]
  },
  {
   "cell_type": "code",
   "execution_count": 94,
   "metadata": {},
   "outputs": [
    {
     "name": "stdout",
     "output_type": "stream",
     "text": [
      "\n",
      "name = Taha Khan\n",
      "uni  = FAST\n",
      "age  = 20\n",
      "\n",
      "\n",
      "name = {}\n",
      "uni  = {}\n",
      "age  = {}\n",
      "\n"
     ]
    }
   ],
   "source": [
    "name= \"Taha Khan\"\n",
    "uni= \"FAST\"\n",
    "age= 20\n",
    "\n",
    "sentence=\"\"\"\n",
    "name = {}\n",
    "uni  = {}\n",
    "age  = {}\n",
    "\"\"\"\n",
    "print(sentence.format(name,uni,age))\n",
    "print(sentence)"
   ]
  },
  {
   "cell_type": "code",
   "execution_count": 2,
   "metadata": {},
   "outputs": [
    {
     "name": "stdout",
     "output_type": "stream",
     "text": [
      "what is your name ? qwerty\n",
      "True\n"
     ]
    }
   ],
   "source": [
    "name = bool(input(\"what is your name ? \"))\n",
    "print(name)"
   ]
  },
  {
   "cell_type": "code",
   "execution_count": null,
   "metadata": {},
   "outputs": [],
   "source": [
    "q = \"taha\"\n",
    "#dir(q)\n",
    "print(q.capitalize())\n",
    "print(q)"
   ]
  },
  {
   "cell_type": "code",
   "execution_count": null,
   "metadata": {},
   "outputs": [],
   "source": []
  }
 ],
 "metadata": {
  "kernelspec": {
   "display_name": "Python 3",
   "language": "python",
   "name": "python3"
  },
  "language_info": {
   "codemirror_mode": {
    "name": "ipython",
    "version": 3
   },
   "file_extension": ".py",
   "mimetype": "text/x-python",
   "name": "python",
   "nbconvert_exporter": "python",
   "pygments_lexer": "ipython3",
   "version": "3.7.3"
  }
 },
 "nbformat": 4,
 "nbformat_minor": 2
}
