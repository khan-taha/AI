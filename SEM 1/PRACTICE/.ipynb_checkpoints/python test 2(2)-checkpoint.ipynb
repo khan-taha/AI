{
 "cells": [
  {
   "cell_type": "code",
   "execution_count": 48,
   "metadata": {},
   "outputs": [
    {
     "name": "stdout",
     "output_type": "stream",
     "text": [
      "A private func3\n",
      "\n",
      "A public func4\n",
      "\n",
      "taha 20 class variable\n",
      "\n",
      "TAHA 21 CLASS VAR\n",
      "\n",
      "A public func1\n",
      "TAHA\n",
      "21\n",
      "CLASS VAR\n",
      "\n",
      "A private func2\n",
      "\n",
      "\n",
      " CLASS A ENDS \n",
      "\n",
      "A private func3\n",
      "\n",
      "A public func4\n",
      "\n",
      "taha 20 CLASS VAR\n",
      "\n",
      "TAHA 21 CLASS VAR\n",
      "\n",
      "A public func1\n",
      "TAHA\n",
      "21\n",
      "CLASS VAR\n",
      "\n",
      "A private func2\n",
      "\n",
      "2222\n",
      "obj1 id =  1311778327240\n",
      "obj2 id =  1311778433456\n",
      "A private func3\n",
      "\n",
      "A public func4\n",
      "\n",
      "C extends A public C\n"
     ]
    }
   ],
   "source": [
    "class A():\n",
    "    \n",
    "    z1 = 'class variable'   #class var\n",
    "    \n",
    "    def __init__(self,name,age): #constructor\n",
    "        self.__name = name       #private att\n",
    "        self.age = age           #public att\n",
    "        \n",
    "        self.__func3()      # OR self._A__func3()\n",
    "        self.func4()\n",
    "        print()\n",
    "        \n",
    "    def func1(self):             #public method\n",
    "        print('A public func1')  #accessing attributes/vars inside class\n",
    "        print(self.__name)       # OR self._A__name\n",
    "        print(self.age)\n",
    "        print(A.z1)\n",
    "        print()\n",
    "        \n",
    "    def __func2(self):               #private method\n",
    "        print('A private func2')\n",
    "        print()\n",
    "        \n",
    "    def __func3(self):               #private method\n",
    "        print('A private func3')\n",
    "        print()\n",
    "     \n",
    "    def func4(self):                 #public method\n",
    "        print(\"A public func4\")\n",
    "     \n",
    "class B(A):\n",
    "    pass\n",
    "  \n",
    "class C(A):\n",
    "    \n",
    "    def __init__(self,roll_num,name,age):\n",
    "        super(C,self).__init__(name,age) # OR super(). OR C.\n",
    "        self.number=roll_num\n",
    "    \n",
    "    def func5(self):\n",
    "        print(\"C extends A\",'public C')\n",
    "        \n",
    "    \n",
    "obj1 = A('taha',20)   #initiating object\n",
    "print(obj1._A__name,obj1.age,A.z1)  #accessing attributes/var outside class\n",
    "obj1._A__name = 'TAHA'\n",
    "obj1.age = '21'\n",
    "A.z1 = 'CLASS VAR'\n",
    "print()\n",
    "print(obj1._A__name,obj1.age,A.z1)\n",
    "print()\n",
    "obj1.func1() #calling public method\n",
    "obj1._A__func2() #calling private method\n",
    "\n",
    "print('\\n',\"CLASS A ENDS\",'\\n')\n",
    "\n",
    "obj2 = B('taha',20)   #initiating object\n",
    "print(obj2._A__name,obj2.age,A.z1)  #accessing attributes/var outside class\n",
    "obj2._A__name = 'TAHA'\n",
    "obj2.age = '21'\n",
    "A.z1 = 'CLASS VAR'\n",
    "print()\n",
    "print(obj2._A__name,obj2.age,A.z1)\n",
    "print()\n",
    "obj2.func1() #calling public method\n",
    "obj2._A__func2() #calling private method\n",
    "\n",
    "if(obj1==obj2):\n",
    "    print(1111)\n",
    "else:\n",
    "    print(2222)\n",
    "    print(\"obj1 id = \",id(obj1))\n",
    "    print(\"obj2 id = \",id(obj2))\n",
    "\n",
    "#del obj1 #deleting an object\n",
    "\n",
    "obj3 = C('Taha',12,1234)\n",
    "\n",
    "obj3.func5()"
   ]
  },
  {
   "cell_type": "code",
   "execution_count": 54,
   "metadata": {},
   "outputs": [
    {
     "name": "stdout",
     "output_type": "stream",
     "text": [
      "Child\n",
      "Hello World Child..\n"
     ]
    }
   ],
   "source": [
    "class Q():\n",
    "    def __init__(self):\n",
    "        print(\"Parent\")\n",
    "    \n",
    "    def speaking(self): # Over Riding  (same function,different classes)\n",
    "        print(\"hello I am parent...\")\n",
    "\n",
    "class W(Q):\n",
    "    def __init__(self): \n",
    "        self.words=None\n",
    "        print(\"Child\")\n",
    "    \n",
    "    def speaking(self): #Over Riding\n",
    "        print(\"Hello World Child..\")\n",
    "        \n",
    "#no direct option for method Overloading but can still use through optional positional argumants\n",
    "        \n",
    "q12 = W()        \n",
    "q12.speaking()\n"
   ]
  },
  {
   "cell_type": "code",
   "execution_count": 61,
   "metadata": {},
   "outputs": [],
   "source": [
    "with open(\"1.txt\", \"w\") as f:  #write mode\n",
    "        f.write(\"Hello, world!\\n\")"
   ]
  },
  {
   "cell_type": "code",
   "execution_count": 62,
   "metadata": {},
   "outputs": [
    {
     "name": "stdout",
     "output_type": "stream",
     "text": [
      "Hello, world!\n",
      "\n"
     ]
    }
   ],
   "source": [
    "with open(\"1.txt\") as f: # OR with open(\"1.txt\", \"r\") as f:   #read mode\n",
    "    ans1 = f.read()\n",
    "    print(ans1)\n",
    "    "
   ]
  },
  {
   "cell_type": "code",
   "execution_count": 64,
   "metadata": {},
   "outputs": [],
   "source": [
    "with open(\"1.txt\", \"a\") as f:  #append mode\n",
    "    f.write(\"\\nHow are you\")"
   ]
  },
  {
   "cell_type": "code",
   "execution_count": 66,
   "metadata": {},
   "outputs": [
    {
     "name": "stdout",
     "output_type": "stream",
     "text": [
      "Hello, world!\n",
      "\n",
      "How are you\n",
      "How are you\n"
     ]
    }
   ],
   "source": [
    "with open(\"1.txt\") as f: # OR with open(\"1.txt\", \"r\") as f:   #read mode\n",
    "    ans1 = f.read()\n",
    "    print(ans1)"
   ]
  },
  {
   "cell_type": "code",
   "execution_count": 74,
   "metadata": {},
   "outputs": [
    {
     "data": {
      "text/plain": [
       "['1', 'taha', '20', '2', 'ali', '21', '3', 'sami', '22']"
      ]
     },
     "execution_count": 74,
     "metadata": {},
     "output_type": "execute_result"
    }
   ],
   "source": [
    "import csv\n",
    "\n",
    "with open(\"2.csv\") as f:\n",
    "    contents_of_file = csv.reader(f)\n",
    "    l1 = []\n",
    "    \n",
    "    for each_line in contents_of_file:\n",
    "        l1 += each_line   #l1.append(each_line)\n",
    "   \n",
    "\n",
    "l1"
   ]
  },
  {
   "cell_type": "code",
   "execution_count": 81,
   "metadata": {},
   "outputs": [
    {
     "name": "stdout",
     "output_type": "stream",
     "text": [
      "256\n",
      "256\n"
     ]
    }
   ],
   "source": [
    "print(2**2**3) # 1-> 2**3 = 8\n",
    "print(2**8)    # 2-> 2**8 = 256\n",
    "\n",
    "    "
   ]
  }
 ],
 "metadata": {
  "kernelspec": {
   "display_name": "Python 3",
   "language": "python",
   "name": "python3"
  },
  "language_info": {
   "codemirror_mode": {
    "name": "ipython",
    "version": 3
   },
   "file_extension": ".py",
   "mimetype": "text/x-python",
   "name": "python",
   "nbconvert_exporter": "python",
   "pygments_lexer": "ipython3",
   "version": "3.7.3"
  }
 },
 "nbformat": 4,
 "nbformat_minor": 2
}
