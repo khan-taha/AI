{
 "cells": [
  {
   "cell_type": "code",
   "execution_count": 5,
   "metadata": {},
   "outputs": [
    {
     "name": "stdout",
     "output_type": "stream",
     "text": [
      "2\n",
      "4\n"
     ]
    }
   ],
   "source": [
    "var1 = 1\n",
    "var1+=1\n",
    "print(var1)\n",
    "var2=2\n",
    "\n",
    "var3 = var1+var2\n",
    "print(var3)\n"
   ]
  },
  {
   "cell_type": "code",
   "execution_count": 10,
   "metadata": {},
   "outputs": [
    {
     "name": "stdout",
     "output_type": "stream",
     "text": [
      "12\n",
      "3\n"
     ]
    }
   ],
   "source": [
    "var1 = \"1\"\n",
    "var2 = 1\n",
    "var3 = 2\n",
    "var4 = \"2\"\n",
    "\n",
    "#string + string\n",
    "print(var1+var4)\n",
    "\n",
    "#string + number -> error\n",
    "#print(var1+var2)\n",
    "\n",
    "#number + string -> error\n",
    "#print(var2+var4)\n",
    "\n",
    "#number + number\n",
    "print(var2+var3)"
   ]
  },
  {
   "cell_type": "code",
   "execution_count": 12,
   "metadata": {},
   "outputs": [],
   "source": [
    "#variable ->legal and illegal\n",
    "\n",
    "var1 = 1\n",
    "var_1 = 1\n",
    "#var$ = 2\n"
   ]
  },
  {
   "cell_type": "code",
   "execution_count": 20,
   "metadata": {},
   "outputs": [
    {
     "name": "stdout",
     "output_type": "stream",
     "text": [
      "1 2\n",
      "2 1\n"
     ]
    }
   ],
   "source": [
    "a=1\n",
    "b=2\n",
    "print(a,b)\n",
    "a,b=b,a\n",
    "print(a,b)"
   ]
  },
  {
   "cell_type": "code",
   "execution_count": 24,
   "metadata": {},
   "outputs": [
    {
     "name": "stdout",
     "output_type": "stream",
     "text": [
      "2\n",
      "0\n",
      "0\n"
     ]
    }
   ],
   "source": [
    "q = 2 % 3\n",
    "print(q)\n",
    "\n",
    "q = 3 % 3\n",
    "print(q)\n",
    "\n",
    "q = 0 % 3\n",
    "print(q)"
   ]
  },
  {
   "cell_type": "code",
   "execution_count": 67,
   "metadata": {},
   "outputs": [
    {
     "name": "stdout",
     "output_type": "stream",
     "text": [
      "Yep, it's cat.\n"
     ]
    }
   ],
   "source": [
    "spe = \"cat\"\n",
    "if spe == \"cat\":\n",
    "    print(\"Yep, it's cat.\")\n",
    "else:\n",
    "    print(\"111\")"
   ]
  },
  {
   "cell_type": "code",
   "execution_count": 33,
   "metadata": {},
   "outputs": [
    {
     "name": "stdout",
     "output_type": "stream",
     "text": [
      "111\n"
     ]
    }
   ],
   "source": [
    "species = \"cat\"\n",
    "#if species = \"cat\":\n",
    "#if species === \"cat\":\n",
    "if species == \"catt\":\n",
    "    print(\"Yep, it's cat.\")\n",
    "else:\n",
    "    print(\"111\")    "
   ]
  },
  {
   "cell_type": "code",
   "execution_count": 35,
   "metadata": {},
   "outputs": [
    {
     "name": "stdout",
     "output_type": "stream",
     "text": [
      "cat\n"
     ]
    }
   ],
   "source": [
    "if species == \"cat\":\n",
    "    print(species)\n",
    "else:\n",
    "    print(\"111\")"
   ]
  },
  {
   "cell_type": "code",
   "execution_count": 49,
   "metadata": {},
   "outputs": [
    {
     "name": "stdout",
     "output_type": "stream",
     "text": [
      "111\n"
     ]
    }
   ],
   "source": [
    "age=62 \n",
    "res=\"1\"\n",
    "if age > 65 or age < 21 and res == \"U.K.\":\n",
    "    print(age)\n",
    "else:\n",
    "    print(111)"
   ]
  },
  {
   "cell_type": "code",
   "execution_count": 59,
   "metadata": {},
   "outputs": [
    {
     "name": "stdout",
     "output_type": "stream",
     "text": [
      "66\n"
     ]
    }
   ],
   "source": [
    "age=66 \n",
    "res=\"U.K.\"\n",
    "if (age > 65 or age < 21) and res == \"U.K.\":\n",
    "    print(age)\n",
    "else:\n",
    "    print(111)"
   ]
  },
  {
   "cell_type": "code",
   "execution_count": 83,
   "metadata": {},
   "outputs": [
    {
     "name": "stdout",
     "output_type": "stream",
     "text": [
      "Welcome back to Hogwarts, Harry!\n"
     ]
    }
   ],
   "source": [
    "first_name = \"Harry\"\n",
    "last_name = \"Potter\"\n",
    "interest = \"wizardry\"\n",
    "\n",
    "if first_name == \"Harry\":\n",
    "    if last_name == \"Potter\":\n",
    "            if interest == \"wizardry\":\n",
    "                print(\"Welcome back to Hogwarts, Harry!\")\n",
    "            elif first_name == \"Harry\":\n",
    "                print(1)"
   ]
  },
  {
   "cell_type": "code",
   "execution_count": 86,
   "metadata": {},
   "outputs": [
    {
     "name": "stdout",
     "output_type": "stream",
     "text": [
      "1\n"
     ]
    },
    {
     "data": {
      "text/plain": [
       "'\\nqqqqqqqqqqqq\\nwwwwwwwwwwwwww\\neeee\\n'"
      ]
     },
     "execution_count": 86,
     "metadata": {},
     "output_type": "execute_result"
    }
   ],
   "source": [
    "\n",
    "\n",
    "print(1)\n",
    "#comments\n",
    "'''\n",
    "qqqqqqqqqqqq\n",
    "wwwwwwwwwwwwww\n",
    "eeee\n",
    "'''"
   ]
  },
  {
   "cell_type": "code",
   "execution_count": 92,
   "metadata": {},
   "outputs": [
    {
     "data": {
      "text/plain": [
       "'\\nthis q1111qq\\nww\\ne\\n'"
      ]
     },
     "execution_count": 92,
     "metadata": {},
     "output_type": "execute_result"
    }
   ],
   "source": [
    "'''\n",
    "this q1111qq\n",
    "ww\n",
    "e\n",
    "'''"
   ]
  },
  {
   "cell_type": "code",
   "execution_count": 103,
   "metadata": {},
   "outputs": [
    {
     "name": "stdout",
     "output_type": "stream",
     "text": [
      "['q', 'w', 'e', 'karachi', 'lahore', 'qwty']\n",
      "['q', 'w', 'e', 'karachi', 'lahore', 'qwty', '1111']\n",
      "['qwerty', 'q', 'w', 'e', 'karachi', 'lahore', 'qwty', '1111']\n",
      "['qwerty', 'aasdsy', 'q', 'w', 'e', 'karachi', 'lahore', 'qwty', '1111']\n",
      "['qwerty', 'aasdsy', 'q', 'w', 'e', 'karachi', 'lahore', '12345', 'qwty', '1111']\n",
      "['qwerty', 'aasdsy', 'q', 'w', 'e', 'karachi', 'lahore', '12345', 'qwty', 'cvbn', '1111']\n"
     ]
    }
   ],
   "source": [
    "cities=[\"karachi\",\"lahore\",\"qwty\"]\n",
    "new_cities=[\"q\",\"w\",\"e\"]\n",
    "cities=new_cities+cities\n",
    "print(cities)\n",
    "cities.append(\"1111\")\n",
    "print(cities)\n",
    "cities.insert(0,\"qwerty\")\n",
    "print(cities)\n",
    "cities.insert(1,\"aasdsy\")\n",
    "print(cities)\n",
    "cities.insert(-2,\"12345\")\n",
    "print(cities)\n",
    "cities.insert(-1,\"cvbn\")\n",
    "print(cities)"
   ]
  },
  {
   "cell_type": "code",
   "execution_count": 111,
   "metadata": {},
   "outputs": [
    {
     "name": "stdout",
     "output_type": "stream",
     "text": [
      "['qwerty', 'aasdsy', 'q', 'w', 'e', 'karachi', 'lahore', '12345', 'qwty', 'cvbn', '1111']\n",
      "['q', 'w', 'e', 'karachi', 'lahore']\n",
      "['q', 'w', 'e', 'karachi', 'lahore']\n",
      "['q', 'e', 'lahore']\n"
     ]
    }
   ],
   "source": [
    "print(cities)\n",
    "a=cities[2:7]\n",
    "print(a)\n",
    "a=cities[2:7:1]\n",
    "print(a)\n",
    "a=cities[2:7:2]\n",
    "print(a)"
   ]
  },
  {
   "cell_type": "code",
   "execution_count": 117,
   "metadata": {},
   "outputs": [
    {
     "name": "stdout",
     "output_type": "stream",
     "text": [
      "Enter the name of a city: a\n",
      "a\n"
     ]
    },
    {
     "ename": "ValueError",
     "evalue": "invalid literal for int() with base 10: 'a'",
     "output_type": "error",
     "traceback": [
      "\u001b[1;31m---------------------------------------------------------------------------\u001b[0m",
      "\u001b[1;31mValueError\u001b[0m                                Traceback (most recent call last)",
      "\u001b[1;32m<ipython-input-117-59b658b8757a>\u001b[0m in \u001b[0;36m<module>\u001b[1;34m\u001b[0m\n\u001b[0;32m      2\u001b[0m \u001b[0mvar1\u001b[0m \u001b[1;33m=\u001b[0m\u001b[0minput\u001b[0m\u001b[1;33m(\u001b[0m\u001b[1;34m\"Enter the name of a city: \"\u001b[0m\u001b[1;33m)\u001b[0m\u001b[1;33m\u001b[0m\u001b[1;33m\u001b[0m\u001b[0m\n\u001b[0;32m      3\u001b[0m \u001b[0mprint\u001b[0m\u001b[1;33m(\u001b[0m\u001b[0mvar1\u001b[0m\u001b[1;33m)\u001b[0m\u001b[1;33m\u001b[0m\u001b[1;33m\u001b[0m\u001b[0m\n\u001b[1;32m----> 4\u001b[1;33m \u001b[0mprint\u001b[0m\u001b[1;33m(\u001b[0m\u001b[0mint\u001b[0m\u001b[1;33m(\u001b[0m\u001b[0mvar1\u001b[0m\u001b[1;33m)\u001b[0m\u001b[1;33m)\u001b[0m\u001b[1;33m\u001b[0m\u001b[1;33m\u001b[0m\u001b[0m\n\u001b[0m\u001b[0;32m      5\u001b[0m \u001b[0mprint\u001b[0m\u001b[1;33m(\u001b[0m\u001b[0mfloat\u001b[0m\u001b[1;33m(\u001b[0m\u001b[0mvar1\u001b[0m\u001b[1;33m)\u001b[0m\u001b[1;33m)\u001b[0m\u001b[1;33m\u001b[0m\u001b[1;33m\u001b[0m\u001b[0m\n",
      "\u001b[1;31mValueError\u001b[0m: invalid literal for int() with base 10: 'a'"
     ]
    }
   ],
   "source": [
    "var = 1\n",
    "var1 =input(\"Enter the name of a city: \")\n",
    "print(var1)\n",
    "print(int(var1))\n",
    "print(float(var1))"
   ]
  },
  {
   "cell_type": "code",
   "execution_count": 120,
   "metadata": {},
   "outputs": [
    {
     "name": "stdout",
     "output_type": "stream",
     "text": [
      "QWERT\n",
      "Qwert\n"
     ]
    }
   ],
   "source": [
    "x=\"qwert\"\n",
    "x = x.upper()\n",
    "print(x)\n",
    "x = x.title()\n",
    "print(x)"
   ]
  },
  {
   "cell_type": "code",
   "execution_count": 128,
   "metadata": {},
   "outputs": [
    {
     "name": "stdout",
     "output_type": "stream",
     "text": [
      "ass\n",
      "ssss\n",
      "ssdd\n"
     ]
    },
    {
     "data": {
      "text/plain": [
       "['ASS', 'SSSS', 'SSDD']"
      ]
     },
     "execution_count": 128,
     "metadata": {},
     "output_type": "execute_result"
    }
   ],
   "source": [
    "a=[\"ass\",\"ssss\",\"ssdd\"]\n",
    "j=0\n",
    "for i in a:\n",
    "    a[j]=i.upper()\n",
    "    print(i)\n",
    "    j+=1\n",
    "    \n",
    "a   "
   ]
  },
  {
   "cell_type": "code",
   "execution_count": 132,
   "metadata": {},
   "outputs": [
    {
     "data": {
      "text/plain": [
       "['WASHINGTON', 'ADAMS', 'JEFFERSON', 'MADISON', 'MONROE', 'ADAMS', 'JACKSON']"
      ]
     },
     "execution_count": 132,
     "metadata": {},
     "output_type": "execute_result"
    }
   ],
   "source": [
    "presidents = [\"Washington\", \"Adams\", \"Jefferson\", \"Madison\", \"Monroe\", \"Adams\", \"Jackson\"]\n",
    "for num,name in enumerate(presidents, start=0):\n",
    "    presidents[num] = name.upper()\n",
    "\n",
    "presidents    "
   ]
  },
  {
   "cell_type": "code",
   "execution_count": 133,
   "metadata": {},
   "outputs": [
    {
     "name": "stdout",
     "output_type": "stream",
     "text": [
      "President 1: Washington\n",
      "President 2: Adams\n",
      "President 3: Jefferson\n",
      "President 4: Madison\n",
      "President 5: Monroe\n",
      "President 6: Adams\n",
      "President 7: Jackson\n"
     ]
    }
   ],
   "source": [
    "presidents = [\"Washington\", \"Adams\", \"Jefferson\", \"Madison\", \"Monroe\", \"Adams\", \"Jackson\"]\n",
    "for num, name in enumerate(presidents, start=1):\n",
    "    print(\"President {}: {}\".format(num, name))"
   ]
  },
  {
   "cell_type": "code",
   "execution_count": 149,
   "metadata": {},
   "outputs": [
    {
     "name": "stdout",
     "output_type": "stream",
     "text": [
      "{'first name': 'David', 'last name': 'Elliott', 'address': '4803 Wellesley St.', 1: 2} q\n",
      "2 4803 Wellesley St.\n",
      "{'first name': 'David', 'last name': 'Elliott', 'address': '4803 Wellesley St.', 1: 2}\n",
      "{'first name': 'David', 'last name': 'Elliott', 'address': '4803 Wellesley St.', 1: 2, 'city': 'karachi'}\n",
      "{'first name': 'David', 'last name': 'Elliott', 'address': '4803 Wellesley St.', 1: 2, 'city': 'karachi', 'asd': ''}\n"
     ]
    },
    {
     "data": {
      "text/plain": [
       "6"
      ]
     },
     "execution_count": 149,
     "metadata": {},
     "output_type": "execute_result"
    }
   ],
   "source": [
    "customer = {\n",
    "    \"first name\": \"David\",\n",
    "    \"last name\": \"Elliott\",\n",
    "    \"address\": \"4803 Wellesley St.\",\n",
    "    1 : 2\n",
    "}\n",
    "q={}\n",
    "q=customer\n",
    "print(q,\"q\")\n",
    "print(customer[1],customer[\"address\"])\n",
    "print(customer)\n",
    "customer[\"city\"]=\"karachi\"\n",
    "print(customer)\n",
    "customer[\"asd\"]=\"\"\n",
    "print(customer)\n",
    "len(customer)"
   ]
  },
  {
   "cell_type": "code",
   "execution_count": 150,
   "metadata": {},
   "outputs": [
    {
     "name": "stdout",
     "output_type": "stream",
     "text": [
      "David\n",
      "Elliott\n",
      "4803 Wellesley St.\n",
      "2\n",
      "karachi\n",
      "\n",
      "first name\n",
      "last name\n",
      "address\n",
      "1\n",
      "city\n",
      "asd\n"
     ]
    }
   ],
   "source": [
    "for each_value in customer.values():\n",
    "     print(each_value)\n",
    "for each_value in customer.keys():\n",
    "     print(each_value)"
   ]
  },
  {
   "cell_type": "code",
   "execution_count": 3,
   "metadata": {},
   "outputs": [
    {
     "name": "stdout",
     "output_type": "stream",
     "text": [
      "2\n",
      "4\n"
     ]
    }
   ],
   "source": [
    "x=2\n",
    "print(x)\n",
    "print(x ** 2)"
   ]
  },
  {
   "cell_type": "code",
   "execution_count": 5,
   "metadata": {},
   "outputs": [
    {
     "name": "stdout",
     "output_type": "stream",
     "text": [
      "True\n"
     ]
    }
   ],
   "source": [
    "print(1==1)"
   ]
  },
  {
   "cell_type": "code",
   "execution_count": 8,
   "metadata": {},
   "outputs": [
    {
     "name": "stdout",
     "output_type": "stream",
     "text": [
      "1 2\n"
     ]
    }
   ],
   "source": [
    "d = {\n",
    "    'a' : 1,\n",
    "    'b' : 2,\n",
    "}\n",
    "print(d['a'],d['b'])\n",
    "#print(d['a','b'])"
   ]
  },
  {
   "cell_type": "code",
   "execution_count": 13,
   "metadata": {},
   "outputs": [
    {
     "name": "stdout",
     "output_type": "stream",
     "text": [
      "2988614972688 2988615594488 False\n"
     ]
    }
   ],
   "source": [
    "d1 = {\n",
    "    'a' : 1,\n",
    "    'b' : 2,\n",
    "}\n",
    "id1=id(d1)\n",
    "del d1\n",
    "d2 = {\n",
    "    'a' : 1,\n",
    "    'b' : 2,\n",
    "}\n",
    "\n",
    "\n",
    "id2=id(d2)\n",
    "del d2\n",
    "print(id1,id2,id1==id2)"
   ]
  }
 ],
 "metadata": {
  "kernelspec": {
   "display_name": "Python 3",
   "language": "python",
   "name": "python3"
  }
 },
 "nbformat": 4,
 "nbformat_minor": 2
}
