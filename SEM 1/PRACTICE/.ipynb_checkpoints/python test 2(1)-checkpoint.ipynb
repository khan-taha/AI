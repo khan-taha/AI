{
 "cells": [
  {
   "cell_type": "code",
   "execution_count": 12,
   "metadata": {},
   "outputs": [
    {
     "name": "stdout",
     "output_type": "stream",
     "text": [
      "1\n",
      "None\n"
     ]
    }
   ],
   "source": [
    "\n",
    "var1 = func1()    \n",
    "print(var1)\n",
    "\n",
    "def func1():\n",
    "    print(1)\n",
    "    #return 2\n",
    "    \n"
   ]
  },
  {
   "cell_type": "code",
   "execution_count": 16,
   "metadata": {},
   "outputs": [
    {
     "name": "stdout",
     "output_type": "stream",
     "text": [
      "1 2\n",
      "2 1\n"
     ]
    }
   ],
   "source": [
    "def func2(num1,num2):\n",
    "    print(num1,num2)\n",
    "    \n",
    "    \n",
    "func2(1,2) #positional arg   \n",
    "func2(num2=1,num1=2)  #keyword arg  \n"
   ]
  },
  {
   "cell_type": "code",
   "execution_count": 19,
   "metadata": {},
   "outputs": [
    {
     "name": "stdout",
     "output_type": "stream",
     "text": [
      "1 2 3\n",
      "1 2 4\n",
      "1 2 3\n"
     ]
    }
   ],
   "source": [
    "def func3(value1,value2,value3=3):\n",
    "    print(value1,value2,value3)\n",
    "    \n",
    "func3(1,2,3)    \n",
    "func3(1,2,4)\n",
    "func3(1,2)    "
   ]
  },
  {
   "cell_type": "code",
   "execution_count": 22,
   "metadata": {},
   "outputs": [
    {
     "name": "stdout",
     "output_type": "stream",
     "text": [
      "1 2 3\n",
      "4 5 6\n",
      "1 2 6\n"
     ]
    }
   ],
   "source": [
    "def func4(value1=1,value2=2,value3=3):\n",
    "    print(value1,value2,value3)\n",
    "    \n",
    "func4()    \n",
    "func4(value3=6,value2=5,value1=4)\n",
    "func4(value3=6)"
   ]
  },
  {
   "cell_type": "code",
   "execution_count": 41,
   "metadata": {},
   "outputs": [
    {
     "name": "stdout",
     "output_type": "stream",
     "text": [
      "1 2 7\n",
      "2 3 1\n",
      "1 2 3\n"
     ]
    }
   ],
   "source": [
    "def func5(value3,value1=1,value2=2):\n",
    "    print(value1,value2,value3)\n",
    "    \n",
    "func5(7,)   \n",
    "func5(1,2,3)    \n",
    "func5(value1=1,value2=2,value3=3)\n",
    "    \n"
   ]
  },
  {
   "cell_type": "code",
   "execution_count": 48,
   "metadata": {},
   "outputs": [
    {
     "name": "stdout",
     "output_type": "stream",
     "text": [
      "1 2 3\n",
      "q1 3\n",
      "q2 4\n",
      "q3 5\n"
     ]
    }
   ],
   "source": [
    "def func6(v1,v2,v3,**anyname): #puts them in a dictionary #optional arg **\n",
    "    print(v1,v2,v3)\n",
    "    for i,j in anyname.items():\n",
    "        print(i,j)\n",
    "\n",
    "func6(1,2,3,q1=3,q2=4,q3=5)        "
   ]
  },
  {
   "cell_type": "code",
   "execution_count": 50,
   "metadata": {},
   "outputs": [
    {
     "name": "stdout",
     "output_type": "stream",
     "text": [
      "1 2 3 (4, 5, 6, 7, 8, 9, 0)\n"
     ]
    }
   ],
   "source": [
    "def func7(v1,v2,v3,*anyname): #puts them in a tuple #optional positional arg *\n",
    "    print(v1,v2,v3,anyname)\n",
    "    \n",
    "func7(1,2,3,4,5,6,7,8,9,0)"
   ]
  }
 ],
 "metadata": {
  "kernelspec": {
   "display_name": "Python 3",
   "language": "python",
   "name": "python3"
  },
  "language_info": {
   "codemirror_mode": {
    "name": "ipython",
    "version": 3
   },
   "file_extension": ".py",
   "mimetype": "text/x-python",
   "name": "python",
   "nbconvert_exporter": "python",
   "pygments_lexer": "ipython3",
   "version": "3.7.3"
  }
 },
 "nbformat": 4,
 "nbformat_minor": 2
}
