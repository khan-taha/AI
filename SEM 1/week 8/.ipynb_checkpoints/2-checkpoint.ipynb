{
 "cells": [
  {
   "cell_type": "code",
   "execution_count": 5,
   "metadata": {},
   "outputs": [],
   "source": [
    "class Human():\n",
    "    def __init__(self,name,age):\n",
    "        self.name=name\n",
    "        self.age=age\n",
    "        \n",
    "    def print_attributes(self):\n",
    "        print(self.name,self.age)\n",
    "        \n",
    "class Male(Human):\n",
    "    def __init__(self,name,age,gender):\n",
    "        super().__init__(name,age)\n",
    "        self.gender=gender\n",
    "\n",
    "    def print_attributes(self):\n",
    "        print(self.name,self.age,self.gender)\n",
    "    \n",
    "class Female(Human):\n",
    "    def __init__(self,name,age,gender):\n",
    "        super().__init__(name,age)\n",
    "        self.gender=gender\n",
    "\n",
    "    def print_attributes(self):\n",
    "        print(self.name,self.age,self.gender)\n",
    "    \n",
    "        \n",
    "    "
   ]
  },
  {
   "cell_type": "code",
   "execution_count": 16,
   "metadata": {},
   "outputs": [],
   "source": [
    "obj1=Human(\"qqqq\",\"11111\")\n",
    "obj2=Male(\"a\",\"q\",\"w\")\n"
   ]
  },
  {
   "cell_type": "code",
   "execution_count": 7,
   "metadata": {},
   "outputs": [
    {
     "name": "stdout",
     "output_type": "stream",
     "text": [
      "qqqq 11111\n"
     ]
    }
   ],
   "source": [
    "obj1.print_attributes()"
   ]
  },
  {
   "cell_type": "code",
   "execution_count": 17,
   "metadata": {},
   "outputs": [
    {
     "name": "stdout",
     "output_type": "stream",
     "text": [
      "a q w\n"
     ]
    }
   ],
   "source": [
    "obj2.print_attributes()"
   ]
  }
 ],
 "metadata": {
  "kernelspec": {
   "display_name": "Python 3",
   "language": "python",
   "name": "python3"
  },
  "language_info": {
   "codemirror_mode": {
    "name": "ipython",
    "version": 3
   },
   "file_extension": ".py",
   "mimetype": "text/x-python",
   "name": "python",
   "nbconvert_exporter": "python",
   "pygments_lexer": "ipython3",
   "version": "3.7.3"
  }
 },
 "nbformat": 4,
 "nbformat_minor": 2
}
