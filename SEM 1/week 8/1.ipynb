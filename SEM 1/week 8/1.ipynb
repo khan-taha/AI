{
 "cells": [
  {
   "cell_type": "raw",
   "metadata": {},
   "source": [
    "OOP "
   ]
  },
  {
   "cell_type": "code",
   "execution_count": 21,
   "metadata": {},
   "outputs": [],
   "source": [
    "class Human():\n",
    "    def __init__(self,name,fname,age): #constructor--\n",
    "        self.name = name\n",
    "        self.fname = fname\n",
    "        self.age = age\n",
    "    \n",
    "    def speak(self,words=\"Hello\"):\n",
    "        print(words)"
   ]
  },
  {
   "cell_type": "code",
   "execution_count": 3,
   "metadata": {},
   "outputs": [],
   "source": [
    "obj1 = Human(\"Taha\",\"abc\",\"20\")"
   ]
  },
  {
   "cell_type": "code",
   "execution_count": 4,
   "metadata": {},
   "outputs": [
    {
     "name": "stdout",
     "output_type": "stream",
     "text": [
      "Taha\n"
     ]
    }
   ],
   "source": [
    "print(obj1.name)"
   ]
  },
  {
   "cell_type": "code",
   "execution_count": 23,
   "metadata": {},
   "outputs": [
    {
     "name": "stdout",
     "output_type": "stream",
     "text": [
      "taha\n",
      "a\n"
     ]
    }
   ],
   "source": [
    "class man():\n",
    "    \n",
    "    def __init__(this,name): #constructor--\n",
    "        \n",
    "        this.name = name\n",
    "        \n",
    "    def speak(self,words=\"Hello\"):\n",
    "        print(self.name)\n",
    "        print(words)\n",
    "        \n",
    "obj1 = man(\"taha\")\n",
    "obj1.speak('a')"
   ]
  },
  {
   "cell_type": "code",
   "execution_count": 6,
   "metadata": {},
   "outputs": [],
   "source": [
    "obj=man(\"qqqqq\")"
   ]
  },
  {
   "cell_type": "code",
   "execution_count": 7,
   "metadata": {},
   "outputs": [
    {
     "data": {
      "text/plain": [
       "'qqqqq'"
      ]
     },
     "execution_count": 7,
     "metadata": {},
     "output_type": "execute_result"
    }
   ],
   "source": [
    "obj.name"
   ]
  },
  {
   "cell_type": "code",
   "execution_count": 8,
   "metadata": {},
   "outputs": [
    {
     "name": "stdout",
     "output_type": "stream",
     "text": [
      "qqqqq\n",
      "a\n"
     ]
    }
   ],
   "source": [
    "obj.speak(\"a\")"
   ]
  },
  {
   "cell_type": "code",
   "execution_count": 9,
   "metadata": {},
   "outputs": [
    {
     "name": "stdout",
     "output_type": "stream",
     "text": [
      "taha\n",
      "Hello\n"
     ]
    }
   ],
   "source": [
    "obj1.speak()\n"
   ]
  },
  {
   "cell_type": "code",
   "execution_count": 11,
   "metadata": {},
   "outputs": [
    {
     "data": {
      "text/plain": [
       "'taha'"
      ]
     },
     "execution_count": 11,
     "metadata": {},
     "output_type": "execute_result"
    }
   ],
   "source": [
    "obj1.name #by def. public attributes"
   ]
  },
  {
   "cell_type": "code",
   "execution_count": 16,
   "metadata": {},
   "outputs": [],
   "source": [
    "class Car():\n",
    "    def __init__(this,name,model,color):\n",
    "        this.name=name;\n",
    "        this.model=model;\n",
    "        this.color=color;\n",
    "        \n",
    "    def print_attributes(this):\n",
    "        print(this.name)\n",
    "        print(this.model)\n",
    "        print(this.color)"
   ]
  },
  {
   "cell_type": "code",
   "execution_count": 17,
   "metadata": {},
   "outputs": [],
   "source": [
    "car1=Car(\"a\",\"q\",\"w\")"
   ]
  },
  {
   "cell_type": "code",
   "execution_count": 18,
   "metadata": {},
   "outputs": [
    {
     "data": {
      "text/plain": [
       "'a'"
      ]
     },
     "execution_count": 18,
     "metadata": {},
     "output_type": "execute_result"
    }
   ],
   "source": [
    "car1.name"
   ]
  },
  {
   "cell_type": "code",
   "execution_count": 19,
   "metadata": {},
   "outputs": [
    {
     "name": "stdout",
     "output_type": "stream",
     "text": [
      "a\n",
      "q\n",
      "w\n"
     ]
    }
   ],
   "source": [
    "car1.print_attributes()"
   ]
  },
  {
   "cell_type": "code",
   "execution_count": null,
   "metadata": {},
   "outputs": [],
   "source": []
  },
  {
   "cell_type": "raw",
   "metadata": {},
   "source": [
    "INHERITANCE"
   ]
  },
  {
   "cell_type": "code",
   "execution_count": null,
   "metadata": {},
   "outputs": [],
   "source": []
  }
 ],
 "metadata": {
  "kernelspec": {
   "display_name": "Python 3",
   "language": "python",
   "name": "python3"
  }
 },
 "nbformat": 4,
 "nbformat_minor": 2
}
