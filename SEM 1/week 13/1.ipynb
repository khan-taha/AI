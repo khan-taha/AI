{
 "cells": [
  {
   "cell_type": "code",
   "execution_count": 44,
   "metadata": {},
   "outputs": [
    {
     "name": "stdout",
     "output_type": "stream",
     "text": [
      "Enter a number1\n",
      "Enter a number1\n",
      "['a']\n",
      "['a', 'b']\n",
      "['a', 'b']\n",
      "nnnnn\n"
     ]
    },
    {
     "data": {
      "text/plain": [
       "['a', 'b']"
      ]
     },
     "execution_count": 44,
     "metadata": {},
     "output_type": "execute_result"
    }
   ],
   "source": [
    "##### char_a = 'a'\n",
    "char_b = 'b'\n",
    "output=[]\n",
    "flag=0\n",
    "\n",
    "\n",
    "value_of_a = int(input(\"Enter a number\"))\n",
    "value_of_b = int(input(\"Enter a number\"))\n",
    "\n",
    "a=value_of_a \n",
    "b=value_of_b\n",
    "flag=0\n",
    "\n",
    "\n",
    "for i in range(0,a+b):\n",
    "    if (i%2==0 and flag!=1):\n",
    "        output.append('a')\n",
    "        a=a-1\n",
    "        print(output)\n",
    "        flag=1\n",
    "    elif (i%2==0 and flag==1 or a==0):\n",
    "        output.append('b')\n",
    "        print(output)\n",
    "        b=b-1\n",
    "    elif(i%2==1 and a!=0):\n",
    "        output.append('a')\n",
    "        print(output)\n",
    "        a=a-1\n",
    "        \n",
    "print(output)\n",
    "print(\"nnnnn\")\n",
    "flag=0\n",
    "a=value_of_a\n",
    "b=value_of_b\n",
    "\n",
    "if output[-1]=='a':\n",
    "    \n",
    "    for i in range(0,a+b):\n",
    "        if flag==0:\n",
    "            \n",
    "            output[-1]='b'\n",
    "            print(output)\n",
    "            b=b-1\n",
    "            flag=1\n",
    "        elif flag==1:\n",
    "            output[i-1]='a'\n",
    "            print(output)\n",
    "            a=a-1\n",
    "            flag=2\n",
    "        elif flag==2:\n",
    "            output[i-1]='a'\n",
    "            print(output)\n",
    "            a=a-1\n",
    "            flag=3\n",
    "        elif flag==3:\n",
    "            output[i-1]='b'\n",
    "            print(output)\n",
    "            b=b-1\n",
    "            flag=1\n",
    "            \n",
    "          \n",
    "output  \n"
   ]
  },
  {
   "cell_type": "code",
   "execution_count": 46,
   "metadata": {},
   "outputs": [
    {
     "data": {
      "text/plain": [
       "'aaa'"
      ]
     },
     "execution_count": 46,
     "metadata": {},
     "output_type": "execute_result"
    }
   ],
   "source": [
    "s=\"aaa\"\n",
    "s.join(\"asd\")\n",
    "s"
   ]
  },
  {
   "cell_type": "code",
   "execution_count": null,
   "metadata": {},
   "outputs": [],
   "source": []
  }
 ],
 "metadata": {
  "kernelspec": {
   "display_name": "Python 3",
   "language": "python",
   "name": "python3"
  },
  "language_info": {
   "codemirror_mode": {
    "name": "ipython",
    "version": 3
   },
   "file_extension": ".py",
   "mimetype": "text/x-python",
   "name": "python",
   "nbconvert_exporter": "python",
   "pygments_lexer": "ipython3",
   "version": "3.7.3"
  }
 },
 "nbformat": 4,
 "nbformat_minor": 2
}
