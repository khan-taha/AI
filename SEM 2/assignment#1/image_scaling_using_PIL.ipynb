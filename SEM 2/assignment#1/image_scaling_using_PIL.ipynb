{
 "cells": [
  {
   "cell_type": "code",
   "execution_count": 2,
   "metadata": {},
   "outputs": [
    {
     "data": {
      "text/plain": [
       "'6.2.0'"
      ]
     },
     "execution_count": 2,
     "metadata": {},
     "output_type": "execute_result"
    }
   ],
   "source": [
    "import PIL\n",
    "PIL.__version__"
   ]
  },
  {
   "cell_type": "code",
   "execution_count": 3,
   "metadata": {},
   "outputs": [
    {
     "data": {
      "text/plain": [
       "sys.version_info(major=3, minor=7, micro=4, releaselevel='final', serial=0)"
      ]
     },
     "execution_count": 3,
     "metadata": {},
     "output_type": "execute_result"
    }
   ],
   "source": [
    "import sys\n",
    "sys.version_info"
   ]
  },
  {
   "cell_type": "markdown",
   "metadata": {},
   "source": [
    "# USING PILLOW LIB"
   ]
  },
  {
   "cell_type": "code",
   "execution_count": 9,
   "metadata": {},
   "outputs": [
    {
     "name": "stdout",
     "output_type": "stream",
     "text": [
      "(20, 200, 200, 3) 20\n",
      "Found directory: images [] ['img1.jpg', 'img10.jpg', 'img11.jpg', 'img12.jpg', 'img13.jpg', 'img14.jpg', 'img15.jpg', 'img16.jpg', 'img17.jpg', 'img18.jpg', 'img19.jpg', 'img2.jpg', 'img20.jpg', 'img3.jpg', 'img4.jpg', 'img5.jpg', 'img6.jpg', 'img7.jpg', 'img8.jpg', 'img9.jpg']\n",
      "\n",
      "\timg1.jpg\n",
      "Found directory: images\n",
      "prev format  JPEG (732, 419) RGB\n",
      "updated format  None (200, 200) RGB\n",
      "\n",
      "\timg10.jpg\n",
      "Found directory: images\n",
      "prev format  JPEG (275, 183) RGB\n",
      "updated format  None (200, 200) RGB\n",
      "\n",
      "\timg11.jpg\n",
      "Found directory: images\n",
      "prev format  JPEG (262, 192) RGB\n",
      "updated format  None (200, 200) RGB\n",
      "\n",
      "\timg12.jpg\n",
      "Found directory: images\n",
      "prev format  JPEG (366, 137) RGB\n",
      "updated format  None (200, 200) RGB\n",
      "\n",
      "\timg13.jpg\n",
      "Found directory: images\n",
      "prev format  JPEG (259, 194) RGB\n",
      "updated format  None (200, 200) RGB\n",
      "\n",
      "\timg14.jpg\n",
      "Found directory: images\n",
      "prev format  JPEG (275, 183) RGB\n",
      "updated format  None (200, 200) RGB\n",
      "\n",
      "\timg15.jpg\n",
      "Found directory: images\n",
      "prev format  JPEG (290, 174) RGB\n",
      "updated format  None (200, 200) RGB\n",
      "\n",
      "\timg16.jpg\n",
      "Found directory: images\n",
      "prev format  JPEG (303, 167) RGB\n",
      "updated format  None (200, 200) RGB\n",
      "\n",
      "\timg17.jpg\n",
      "Found directory: images\n",
      "prev format  JPEG (275, 183) RGB\n",
      "updated format  None (200, 200) RGB\n",
      "\n",
      "\timg18.jpg\n",
      "Found directory: images\n",
      "prev format  JPEG (275, 183) RGB\n",
      "updated format  None (200, 200) RGB\n",
      "\n",
      "\timg19.jpg\n",
      "Found directory: images\n",
      "prev format  JPEG (267, 189) RGB\n",
      "updated format  None (200, 200) RGB\n",
      "\n",
      "\timg2.jpg\n",
      "Found directory: images\n",
      "prev format  JPEG (268, 188) RGB\n",
      "updated format  None (200, 200) RGB\n",
      "\n",
      "\timg20.jpg\n",
      "Found directory: images\n",
      "prev format  JPEG (284, 177) RGB\n",
      "updated format  None (200, 200) RGB\n",
      "\n",
      "\timg3.jpg\n",
      "Found directory: images\n",
      "prev format  JPEG (259, 194) RGB\n",
      "updated format  None (200, 200) RGB\n",
      "\n",
      "\timg4.jpg\n",
      "Found directory: images\n",
      "prev format  JPEG (300, 168) RGB\n",
      "updated format  None (200, 200) RGB\n",
      "\n",
      "\timg5.jpg\n",
      "Found directory: images\n",
      "prev format  JPEG (300, 168) RGB\n",
      "updated format  None (200, 200) RGB\n",
      "\n",
      "\timg6.jpg\n",
      "Found directory: images\n",
      "prev format  JPEG (300, 168) RGB\n",
      "updated format  None (200, 200) RGB\n",
      "\n",
      "\timg7.jpg\n",
      "Found directory: images\n",
      "prev format  JPEG (259, 194) RGB\n",
      "updated format  None (200, 200) RGB\n",
      "\n",
      "\timg8.jpg\n",
      "Found directory: images\n",
      "prev format  JPEG (383, 131) RGB\n",
      "updated format  None (200, 200) RGB\n",
      "\n",
      "\timg9.jpg\n",
      "Found directory: images\n",
      "prev format  JPEG (266, 190) RGB\n",
      "updated format  None (200, 200) RGB\n"
     ]
    }
   ],
   "source": [
    "import numpy as np\n",
    "import os\n",
    "from PIL import Image\n",
    "\n",
    "size=(200,200,3)\n",
    "index=0;\n",
    "rootDir = 'images'\n",
    "\n",
    "array = np.zeros([20,200,200,3])\n",
    "\n",
    "\n",
    "print(array.shape,array.shape[0])\n",
    "\n",
    "\n",
    "for dirName, subdirList, fileList in os.walk(rootDir):\n",
    "    \n",
    "    print('Found directory: %s' % dirName ,subdirList,fileList)\n",
    "    \n",
    "\n",
    "for fname in fileList:\n",
    "    \n",
    "    print('\\n\\t%s' % fname)\n",
    "    print('Found directory: %s' % dirName)\n",
    "    im = Image.open(rootDir+\"\\\\\"+fname)\n",
    "    print(\"prev format \",im.format, im.size, im.mode)\n",
    "    im=im.resize((200,200))\n",
    "    #im=im.thumbnail(size)\n",
    "    print(\"updated format \",im.format, im.size, im.mode)\n",
    "    #im.show()\n",
    "    array[index,:,:,:]=np.array(im)\n",
    "    index=index+1\n",
    "    \n"
   ]
  },
  {
   "cell_type": "code",
   "execution_count": null,
   "metadata": {},
   "outputs": [],
   "source": []
  },
  {
   "cell_type": "code",
   "execution_count": null,
   "metadata": {},
   "outputs": [],
   "source": []
  }
 ],
 "metadata": {
  "kernelspec": {
   "display_name": "Python 3",
   "language": "python",
   "name": "python3"
  },
  "language_info": {
   "codemirror_mode": {
    "name": "ipython",
    "version": 3
   },
   "file_extension": ".py",
   "mimetype": "text/x-python",
   "name": "python",
   "nbconvert_exporter": "python",
   "pygments_lexer": "ipython3",
   "version": "3.7.4"
  }
 },
 "nbformat": 4,
 "nbformat_minor": 2
}
