{
 "cells": [
  {
   "cell_type": "code",
   "execution_count": 1,
   "metadata": {},
   "outputs": [
    {
     "name": "stdout",
     "output_type": "stream",
     "text": [
      "D:\\PIAIC\\SEM 2\\assignment#1\\images\\\n",
      "Found directory: ['img1.jpg', 'img10.jpg', 'img11.jpg', 'img12.jpg', 'img13.jpg', 'img14.jpg', 'img15.jpg', 'img16.jpg', 'img17.jpg', 'img18.jpg', 'img19.jpg', 'img2.jpg', 'img20.jpg', 'img3.jpg', 'img4.jpg', 'img5.jpg', 'img6.jpg', 'img7.jpg', 'img8.jpg', 'img9.jpg']\n"
     ]
    }
   ],
   "source": [
    "#for absolute path\n",
    "import os, os.path\n",
    "\n",
    "rootDir = 'D:\\\\PIAIC\\\\SEM 2\\\\assignment#1\\\\images'\n",
    "print(rootDir+\"\\\\\")\n",
    "\n",
    "for _,_,fileList in os.walk(rootDir):\n",
    "    \n",
    "    print('Found directory: %s' % fileList)\n",
    "\n"
   ]
  },
  {
   "cell_type": "code",
   "execution_count": 2,
   "metadata": {},
   "outputs": [],
   "source": [
    "#from pathfile import path;"
   ]
  },
  {
   "cell_type": "markdown",
   "metadata": {},
   "source": [
    "# PANDAS"
   ]
  },
  {
   "cell_type": "code",
   "execution_count": 72,
   "metadata": {},
   "outputs": [],
   "source": [
    "#_analysis_with_panda_series1"
   ]
  },
  {
   "cell_type": "code",
   "execution_count": 53,
   "metadata": {},
   "outputs": [],
   "source": [
    "import pandas as pd\n",
    "import numpy as np"
   ]
  },
  {
   "cell_type": "code",
   "execution_count": 6,
   "metadata": {},
   "outputs": [
    {
     "data": {
      "text/plain": [
       "0    1\n",
       "1    2\n",
       "2    3\n",
       "3    4\n",
       "dtype: int64"
      ]
     },
     "execution_count": 6,
     "metadata": {},
     "output_type": "execute_result"
    }
   ],
   "source": [
    "obj = pd.Series([1,2,3,4])\n",
    "obj"
   ]
  },
  {
   "cell_type": "code",
   "execution_count": 9,
   "metadata": {},
   "outputs": [
    {
     "name": "stdout",
     "output_type": "stream",
     "text": [
      "[100 200 300 400]\n",
      "RangeIndex(start=0, stop=4, step=1)\n"
     ]
    }
   ],
   "source": [
    "obj1 = pd.Series([100,200,300,400])\n",
    "print(obj1.values)\n",
    "print(obj1.index)\n"
   ]
  },
  {
   "cell_type": "code",
   "execution_count": 14,
   "metadata": {},
   "outputs": [
    {
     "name": "stdout",
     "output_type": "stream",
     "text": [
      "1     100\n",
      "44    200\n",
      "7     300\n",
      "0     400\n",
      "dtype: int64\n",
      "[100 200 300 400]\n",
      "Int64Index([1, 44, 7, 0], dtype='int64')\n"
     ]
    }
   ],
   "source": [
    "obj1 = pd.Series([100,200,300,400],index = [1,44,7,0])\n",
    "print(obj1)\n",
    "print(obj1.values)\n",
    "print(obj1.index)\n"
   ]
  },
  {
   "cell_type": "code",
   "execution_count": 17,
   "metadata": {},
   "outputs": [
    {
     "name": "stdout",
     "output_type": "stream",
     "text": [
      "jan    100\n",
      "feb    200\n",
      "mar    300\n",
      "apr    400\n",
      "dtype: int64\n",
      "[100 200 300 400]\n",
      "Index(['jan', 'feb', 'mar', 'apr'], dtype='object')\n"
     ]
    }
   ],
   "source": [
    "obj2 = pd.Series([100,200,300,400],index = ['jan','feb','mar','apr'])\n",
    "print(obj2)\n",
    "print(obj2.values)\n",
    "print(obj2.index)\n"
   ]
  },
  {
   "cell_type": "code",
   "execution_count": 22,
   "metadata": {},
   "outputs": [
    {
     "name": "stdout",
     "output_type": "stream",
     "text": [
      "jan    100\n",
      "feb    200\n",
      "mar    300\n",
      "apr    400\n",
      "Name: obj22, dtype: int64\n"
     ]
    }
   ],
   "source": [
    "list1 =['jan','feb','mar','apr']\n",
    "obj2 = pd.Series([100,200,300,400],list1,name = 'obj22')\n",
    "print(obj2)\n"
   ]
  },
  {
   "cell_type": "code",
   "execution_count": 25,
   "metadata": {},
   "outputs": [
    {
     "name": "stdout",
     "output_type": "stream",
     "text": [
      "mon      20\n",
      "tues     30\n",
      "wed      20\n",
      "thurs    25\n",
      "fri      30\n",
      "sat      40\n",
      "sun       0\n",
      "Name: canteen, dtype: int64\n"
     ]
    }
   ],
   "source": [
    "obj3 = pd.Series([20,30,20,25,30,40,0],['mon','tues','wed','thurs','fri','sat','sun'],name = 'canteen' )\n",
    "print(obj3)"
   ]
  },
  {
   "cell_type": "code",
   "execution_count": 33,
   "metadata": {},
   "outputs": [
    {
     "name": "stdout",
     "output_type": "stream",
     "text": [
      "20\n",
      "20\n"
     ]
    }
   ],
   "source": [
    "print(obj3['mon'])\n",
    "print(obj3[0])\n"
   ]
  },
  {
   "cell_type": "code",
   "execution_count": 48,
   "metadata": {},
   "outputs": [
    {
     "data": {
      "text/plain": [
       "['',\n",
       " 'Jan',\n",
       " 'Feb',\n",
       " 'Mar',\n",
       " 'Apr',\n",
       " 'May',\n",
       " 'Jun',\n",
       " 'Jul',\n",
       " 'Aug',\n",
       " 'Sep',\n",
       " 'Oct',\n",
       " 'Nov',\n",
       " 'Dec']"
      ]
     },
     "execution_count": 48,
     "metadata": {},
     "output_type": "execute_result"
    }
   ],
   "source": [
    "import calendar\n",
    "list1 = [calendar.month_abbr[i] for i in range(0,13)]\n",
    "list1"
   ]
  },
  {
   "cell_type": "code",
   "execution_count": 45,
   "metadata": {},
   "outputs": [
    {
     "data": {
      "text/plain": [
       "[42, 58, 43, 20, 53, 46, 68, 96, 82, 37, 88, 8]"
      ]
     },
     "execution_count": 45,
     "metadata": {},
     "output_type": "execute_result"
    }
   ],
   "source": [
    "import random\n",
    "\n",
    "random.randint(1,101)\n",
    "randomList = [random.randint(0,100) for i  in range(0,12)]\n",
    "randomList"
   ]
  },
  {
   "cell_type": "code",
   "execution_count": 57,
   "metadata": {},
   "outputs": [
    {
     "name": "stdout",
     "output_type": "stream",
     "text": [
      "Jan    42\n",
      "Feb    58\n",
      "Mar    43\n",
      "Apr    20\n",
      "May    53\n",
      "Jun    46\n",
      "Jul    68\n",
      "Aug    96\n",
      "Sep    82\n",
      "Oct    37\n",
      "Nov    88\n",
      "Dec     8\n",
      "Name: randomValues, dtype: int64\n"
     ]
    },
    {
     "data": {
      "text/plain": [
       "Jan     32\n",
       "Feb    100\n",
       "Mar     29\n",
       "Apr     74\n",
       "May     29\n",
       "Jun     42\n",
       "Jul     57\n",
       "Aug     71\n",
       "Sep     50\n",
       "Oct     90\n",
       "Nov     86\n",
       "Dec     48\n",
       "Name: obj5, dtype: int32"
      ]
     },
     "execution_count": 57,
     "metadata": {},
     "output_type": "execute_result"
    }
   ],
   "source": [
    "obj4 = pd.Series(randomList,list1[1:],name = 'randomValues')\n",
    "obj5 = pd.Series(np.random.randint(10,101,size = [12]),list1[1:],name = 'obj5')\n",
    "print(obj4)\n",
    "obj5"
   ]
  },
  {
   "cell_type": "code",
   "execution_count": 67,
   "metadata": {},
   "outputs": [
    {
     "name": "stdout",
     "output_type": "stream",
     "text": [
      "Jan    42\n",
      "Dec     8\n",
      "Name: randomValues, dtype: int64\n",
      "Apr    74\n",
      "Jun    42\n",
      "Name: obj5, dtype: int32\n",
      "100\n"
     ]
    }
   ],
   "source": [
    "print(obj4[['Jan','Dec']]) \n",
    "print(obj5[[3,5]]) \n",
    "print(obj5[1])"
   ]
  },
  {
   "cell_type": "code",
   "execution_count": 74,
   "metadata": {},
   "outputs": [
    {
     "name": "stdout",
     "output_type": "stream",
     "text": [
      "True\n",
      "False\n"
     ]
    },
    {
     "data": {
      "text/plain": [
       "False"
      ]
     },
     "execution_count": 74,
     "metadata": {},
     "output_type": "execute_result"
    }
   ],
   "source": [
    "print('Oct' in obj5)\n",
    "print('Ocat' in obj5)\n",
    "48 in obj5"
   ]
  },
  {
   "cell_type": "code",
   "execution_count": 86,
   "metadata": {},
   "outputs": [
    {
     "name": "stdout",
     "output_type": "stream",
     "text": [
      "A    1\n",
      "B    2\n",
      "C    3\n",
      "D    4\n",
      "dtype: int64\n",
      "B    2\n",
      "D    4\n",
      "A    1\n",
      "C    3\n",
      "dtype: int64\n"
     ]
    }
   ],
   "source": [
    "dict1 = { \"A\" : 1,\"B\" : 2,\"C\" : 3,\"D\" : 4}\n",
    "obj6 = pd.Series(dict1)\n",
    "print(obj6)\n",
    "obj6 = pd.Series(dict1,index=[\"B\",\"D\",\"A\",\"C\"])\n",
    "print(obj6)"
   ]
  },
  {
   "cell_type": "code",
   "execution_count": 92,
   "metadata": {},
   "outputs": [
    {
     "data": {
      "text/plain": [
       "A    1\n",
       "B    2\n",
       "C    3\n",
       "D    4\n",
       "dtype: int64"
      ]
     },
     "execution_count": 92,
     "metadata": {},
     "output_type": "execute_result"
    }
   ],
   "source": [
    "#throughlist\n",
    "dict1 = { \"A\" : 1,\"B\" : 2,\"C\" : 3,\"D\" : 4}\n",
    "obj6 = pd.Series(list(dict1.values()),list(dict1.keys()))\n",
    "obj6"
   ]
  },
  {
   "cell_type": "code",
   "execution_count": null,
   "metadata": {},
   "outputs": [],
   "source": []
  }
 ],
 "metadata": {
  "kernelspec": {
   "display_name": "Python 3",
   "language": "python",
   "name": "python3"
  },
  "language_info": {
   "codemirror_mode": {
    "name": "ipython",
    "version": 3
   },
   "file_extension": ".py",
   "mimetype": "text/x-python",
   "name": "python",
   "nbconvert_exporter": "python",
   "pygments_lexer": "ipython3",
   "version": "3.7.4"
  }
 },
 "nbformat": 4,
 "nbformat_minor": 2
}
