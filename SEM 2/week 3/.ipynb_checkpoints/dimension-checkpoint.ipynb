{
 "cells": [
  {
   "cell_type": "code",
   "execution_count": 3,
   "metadata": {},
   "outputs": [
    {
     "name": "stdout",
     "output_type": "stream",
     "text": [
      "(1,)\n",
      "[0]\n"
     ]
    }
   ],
   "source": [
    "import numpy as np\n",
    "ndarray = np.array([0])\n",
    "print(ndarray.shape)\n",
    "print(ndarray)"
   ]
  },
  {
   "cell_type": "code",
   "execution_count": 4,
   "metadata": {},
   "outputs": [
    {
     "name": "stdout",
     "output_type": "stream",
     "text": [
      "(4,)\n",
      "[list([1, 11, 12]) 2 3 4]\n"
     ]
    }
   ],
   "source": [
    "ndarray = np.array([[1,11,12],2,3,4])\n",
    "print(ndarray.shape)\n",
    "print(ndarray)"
   ]
  },
  {
   "cell_type": "code",
   "execution_count": 11,
   "metadata": {},
   "outputs": [
    {
     "name": "stdout",
     "output_type": "stream",
     "text": [
      "shape =  (4, 4)\n",
      "value =  [[11 12 13 14]\n",
      " [21 22 23 24]] [3]\n",
      "[[11 12 13 14]\n",
      " [21 22 23 24]\n",
      " [31 32 33 34]\n",
      " [41 42 43 44]]\n"
     ]
    }
   ],
   "source": [
    "ndarray = np.array(\n",
    "    [\n",
    "        [11,12,13,14],\n",
    "        [21,22,23,24],\n",
    "        [31,32,33,34],\n",
    "        [41,42,43,44]\n",
    "    ]\n",
    "    )\n",
    "print(\"shape = \",ndarray.shape)\n",
    "print(\"value = \",ndarray[0:2],[3])\n",
    "print(ndarray)"
   ]
  },
  {
   "cell_type": "code",
   "execution_count": 80,
   "metadata": {},
   "outputs": [
    {
     "name": "stdout",
     "output_type": "stream",
     "text": [
      "shape =  (4, 4, 3)\n",
      "[[[111 112 113]\n",
      "  [121 122 123]\n",
      "  [131 132 133]\n",
      "  [141 142 143]]\n",
      "\n",
      " [[211 212 213]\n",
      "  [221 222 223]\n",
      "  [231 232 233]\n",
      "  [241 242 243]]\n",
      "\n",
      " [[311 312 313]\n",
      "  [321 322 323]\n",
      "  [331 332 333]\n",
      "  [341 342 343]]\n",
      "\n",
      " [[411 412 413]\n",
      "  [421 422 423]\n",
      "  [431 432 433]\n",
      "  [441 442 443]]]\n",
      "--------------------\n",
      "[[[111 112 113]\n",
      "  [121 122 123]\n",
      "  [131 132 133]\n",
      "  [141 142 143]]\n",
      "\n",
      " [[211 212 213]\n",
      "  [221 222 223]\n",
      "  [200 200 200]\n",
      "  [200 200 200]]\n",
      "\n",
      " [[311 312 313]\n",
      "  [321 322 323]\n",
      "  [331 332 333]\n",
      "  [341 342 343]]\n",
      "\n",
      " [[411 412 413]\n",
      "  [421 422 423]\n",
      "  [431 432 433]\n",
      "  [441 442 443]]]\n"
     ]
    }
   ],
   "source": [
    "# main array has 4 element and every element has 4 elements\n",
    "ndarray = np.array(\n",
    "    [\n",
    "        [\n",
    "            [111,112,113],\n",
    "            [121,122,123],\n",
    "            [131,132,133],\n",
    "            [141,142,143]\n",
    "        ],\n",
    "        [\n",
    "            [211,212,213],\n",
    "            [221,222,223],\n",
    "            [231,232,233],\n",
    "            [241,242,243]\n",
    "        ],\n",
    "        [\n",
    "            [311,312,313],\n",
    "            [321,322,323],\n",
    "            [331,332,333],\n",
    "            [341,342,343]\n",
    "        ],\n",
    "        [\n",
    "            [411,412,413],\n",
    "            [421,422,423],\n",
    "            [431,432,433],\n",
    "            [441,442,443]\n",
    "        ]\n",
    "    ]\n",
    "    )\n",
    "print(\"shape = \",ndarray.shape)\n",
    "\n",
    "##single code (check every indiviual statement)\n",
    "\n",
    "#print(\"value = \\n\",ndarray[:3])#1st dim->0 se 2\n",
    "#print(\"value = \\n\",ndarray[:4,0])\n",
    "#print(\"value = \\n\",ndarray[:4,0:0])\n",
    "#print(\"value = \\n\",ndarray[:2,0])\n",
    "#print(\"value = \\n\",ndarray[:2,1:3])\n",
    "#print(\"value = \\n\",ndarray[3,2,1])\n",
    "#print(\"value = \\n\",ndarray[3,:2,1])\n",
    "#print(\"value = \\n\",ndarray>200)\n",
    "\n",
    "##single code\n",
    "\n",
    "#na1=ndarray>200\n",
    "#print(\"na1 shape = \",na1.shape)\n",
    "#na2=ndarray[na1] # will return a linear dimension with elements equl  to multiplying the dimension of the array\n",
    "#print(\"na2 shape = \",na2.shape) \n",
    "#print(na2)\n",
    "#print(\"new na2\",na2.reshape([2,6,3])) # reshape into your desired dimensions\n",
    "#print(\"na2 shape = \",na2.shape) # new dimension of na2\n",
    "\n",
    "##single code\n",
    "\n",
    "#some=np.where(ndarray == [121])\n",
    "#print(ndarray[some])\n",
    "#or\n",
    "#print(np.where(ndarray == [121]))\n",
    "#print(\"value = \\n\",ndarray[0,1,0])\n",
    "\n",
    "# if no slice is defined for a dimension,\n",
    "#everything in dimension is included\n",
    "#numpy array is for storage\n",
    "\n",
    "na3=ndarray\n",
    "print(na3)\n",
    "print(\"--------------------\")\n",
    "#na3 [:,:,:]=200\n",
    "na3 [1,2:,:]=200\n",
    "print(na3)\n"
   ]
  },
  {
   "cell_type": "code",
   "execution_count": null,
   "metadata": {},
   "outputs": [],
   "source": []
  },
  {
   "cell_type": "code",
   "execution_count": null,
   "metadata": {},
   "outputs": [],
   "source": []
  }
 ],
 "metadata": {
  "kernelspec": {
   "display_name": "Python 3",
   "language": "python",
   "name": "python3"
  },
  "language_info": {
   "codemirror_mode": {
    "name": "ipython",
    "version": 3
   },
   "file_extension": ".py",
   "mimetype": "text/x-python",
   "name": "python",
   "nbconvert_exporter": "python",
   "pygments_lexer": "ipython3",
   "version": "3.7.3"
  }
 },
 "nbformat": 4,
 "nbformat_minor": 2
}
