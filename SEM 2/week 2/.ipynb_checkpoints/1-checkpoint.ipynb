{
 "cells": [
  {
   "cell_type": "code",
   "execution_count": 1,
   "metadata": {},
   "outputs": [],
   "source": [
    "import numpy as np\n",
    "#numpy.version.version"
   ]
  },
  {
   "cell_type": "code",
   "execution_count": 2,
   "metadata": {},
   "outputs": [
    {
     "name": "stdout",
     "output_type": "stream",
     "text": [
      "['This', 'is', 'something']\n"
     ]
    }
   ],
   "source": [
    "str1 = 'This is something'\n",
    "list1=str1.split();\n",
    "print(list1)"
   ]
  },
  {
   "cell_type": "code",
   "execution_count": 3,
   "metadata": {},
   "outputs": [
    {
     "data": {
      "text/plain": [
       "array(['This', 'is', 'something'], dtype='<U9')"
      ]
     },
     "execution_count": 3,
     "metadata": {},
     "output_type": "execute_result"
    }
   ],
   "source": [
    "np.array(list1)"
   ]
  },
  {
   "cell_type": "code",
   "execution_count": 4,
   "metadata": {},
   "outputs": [
    {
     "name": "stdout",
     "output_type": "stream",
     "text": [
      "NumPy, short for Numerical Python, is one of the most important foundational pack‐\n",
      "ages for numerical computing in Python. Most computational packages providing\n",
      "scientific functionality use NumPy’s array objects as the lingua franca for data\n",
      "exchange.\n",
      "Here are some of the things you’ll find in NumPy:\n",
      "• ndarray, an efficient multidimensional array providing fast array-oriented arith‐\n",
      "metic operations and flexible broadcasting capabilities.\n",
      "• Mathematical functions for fast operations on entire arrays of data without hav‐\n",
      "ing to write loops.\n",
      "• Tools for reading/writing array data to disk and working with memory-mapped\n",
      "files.\n",
      "• Linear algebra, random number generation, and Fourier transform capabilities.\n",
      "• A C API for connecting NumPy with libraries written in C, C++, or FORTRAN.\n"
     ]
    }
   ],
   "source": [
    "str2 = \"\"\"NumPy, short for Numerical Python, is one of the most important foundational pack‐\n",
    "ages for numerical computing in Python. Most computational packages providing\n",
    "scientific functionality use NumPy’s array objects as the lingua franca for data\n",
    "exchange.\n",
    "Here are some of the things you’ll find in NumPy:\n",
    "• ndarray, an efficient multidimensional array providing fast array-oriented arith‐\n",
    "metic operations and flexible broadcasting capabilities.\n",
    "• Mathematical functions for fast operations on entire arrays of data without hav‐\n",
    "ing to write loops.\n",
    "• Tools for reading/writing array data to disk and working with memory-mapped\n",
    "files.\n",
    "• Linear algebra, random number generation, and Fourier transform capabilities.\n",
    "• A C API for connecting NumPy with libraries written in C, C++, or FORTRAN.\"\"\"\n",
    "#array1 = str2[15]; \n",
    "array1 = np.array(str2);\n",
    "print(array1)"
   ]
  },
  {
   "cell_type": "code",
   "execution_count": null,
   "metadata": {},
   "outputs": [],
   "source": []
  },
  {
   "cell_type": "code",
   "execution_count": 5,
   "metadata": {},
   "outputs": [
    {
     "data": {
      "text/plain": [
       "()"
      ]
     },
     "execution_count": 5,
     "metadata": {},
     "output_type": "execute_result"
    }
   ],
   "source": [
    "array1.shape"
   ]
  },
  {
   "cell_type": "code",
   "execution_count": null,
   "metadata": {},
   "outputs": [],
   "source": [
    "import numpy as np;\n",
    "import matplotlib.pylab as plt #to  read image\n",
    "\n",
    "#first function then call since python is an interpreted lang\n",
    "#plti function for \n",
    "# * list in chp6\n",
    "# ** dictionary\n",
    "def plti(im,h=8,**kwargs):\n",
    "    \"\"\"\n",
    "    Helper function to plot an image.\n",
    "    \"\"\"\n",
    "    y = im.shape[0]\n",
    "    x = im.shape[1]\n",
    "    w = (y/x) * h\n",
    "    plt.figure(figsize=(w,h))\n",
    "    plt.imshow(im,interpolation=\"none\",**kwargs)\n",
    "    plt.axis('off')\n",
    "    \n",
    "%matplotlib inline\n",
    "\n",
    "im = plt.imread(\"pic1.jpg\") # img converted to numpy array\n",
    "print(im.shape)\n",
    "plti(im)\n",
    "im=im[:100:100,:]\n",
    "#plti(im)\n",
    "print(im.shape)\n",
    "type(im)"
   ]
  },
  {
   "cell_type": "code",
   "execution_count": null,
   "metadata": {},
   "outputs": [],
   "source": [
    "array2 = np.zeros(100,dtype=\"int8\")\n",
    "print(array2)"
   ]
  },
  {
   "cell_type": "code",
   "execution_count": null,
   "metadata": {},
   "outputs": [],
   "source": [
    "array3 = np.array([1,2,3,4])\n",
    "array4 = np.array([5,6,3,8])\n",
    "\n",
    "print(array3)\n",
    "print(array4)\n",
    "\n",
    "print(array3 + array4)\n",
    "\n",
    "print(array3 == array4)\n",
    "\n",
    "\n"
   ]
  },
  {
   "cell_type": "code",
   "execution_count": null,
   "metadata": {},
   "outputs": [],
   "source": []
  },
  {
   "cell_type": "code",
   "execution_count": null,
   "metadata": {},
   "outputs": [],
   "source": [
    "array5 = np.array([[1,2,3,4],[1,2,3,4]])\n",
    "array6 = np.array([1,1,1,1])\n",
    "\n",
    "print(array5+array6)\n",
    "#error\n",
    "#array5 = np.array([[1,2,3,4],[1,2,3,4],[1,2,3,4]])\n",
    "#array6 = np.array([[1,1,1,1],[1,1,1,1]])\n",
    "#print(array5+array6)"
   ]
  },
  {
   "cell_type": "code",
   "execution_count": null,
   "metadata": {},
   "outputs": [],
   "source": [
    "array5>2"
   ]
  },
  {
   "cell_type": "code",
   "execution_count": null,
   "metadata": {},
   "outputs": [],
   "source": [
    "#na only true values will be added ,false will be removed\n",
    "filter = array5 > 2\n",
    "print(filter)\n",
    "newarray = array5[filter]\n",
    "#newarray = array5[na>2]\n",
    "print(newarray)"
   ]
  },
  {
   "cell_type": "code",
   "execution_count": null,
   "metadata": {},
   "outputs": [],
   "source": [
    "#\n",
    "salary = np.array([1,1000,0,344,23,7])\n",
    "print(salary)\n",
    "\n",
    "np.where(salary<10,100,salary)\n",
    "\n"
   ]
  },
  {
   "cell_type": "code",
   "execution_count": null,
   "metadata": {},
   "outputs": [],
   "source": [
    "\n",
    "arr1 = np.array([1,2,3,4,5,6,7,8,9,90])\n",
    "arr1.reshape(2,5)\n",
    "#size should be equal acc to the number of elements"
   ]
  },
  {
   "cell_type": "code",
   "execution_count": null,
   "metadata": {},
   "outputs": [],
   "source": [
    "array7=np.array([1,2,3,4])\n",
    "arr2 = np.concatenate([array7,array6])\n",
    "#cal also give axis in 2nd arg of concatenate\n",
    "print(arr2)\n",
    "print(np.split(arr2,[2,5,7]))#but how to save it in diff  arrays\n",
    "print(np.split(arr2,[2,5,8]))\n",
    "\n",
    "n1,n2,n3,n4=np.split(arr2,[2,5,8])\n",
    "print(n1,n2,n3,n4)"
   ]
  },
  {
   "cell_type": "code",
   "execution_count": null,
   "metadata": {},
   "outputs": [],
   "source": []
  },
  {
   "cell_type": "code",
   "execution_count": null,
   "metadata": {},
   "outputs": [],
   "source": []
  }
 ],
 "metadata": {
  "kernelspec": {
   "display_name": "Python 3",
   "language": "python",
   "name": "python3"
  },
  "language_info": {
   "codemirror_mode": {
    "name": "ipython",
    "version": 3
   },
   "file_extension": ".py",
   "mimetype": "text/x-python",
   "name": "python",
   "nbconvert_exporter": "python",
   "pygments_lexer": "ipython3",
   "version": "3.7.4"
  }
 },
 "nbformat": 4,
 "nbformat_minor": 2
}
